{
 "cells": [
  {
   "cell_type": "markdown",
   "metadata": {},
   "source": [
    "# 0. Importing Necessary Libraries"
   ]
  },
  {
   "cell_type": "code",
   "execution_count": 1,
   "metadata": {},
   "outputs": [],
   "source": [
    "import numpy as np\n",
    "import pandas as pd\n",
    "import random\n",
    "from pandarallel import pandarallel # for parallel computations with pandas\n",
    "import time"
   ]
  },
  {
   "cell_type": "markdown",
   "metadata": {},
   "source": [
    "# 1. Transaction Data Simulator"
   ]
  },
  {
   "cell_type": "markdown",
   "metadata": {},
   "source": [
    "For confidentiality reasons, it is hard to find data related to fraud detection problems, despite its importance. Therefore, I will use a transaction data simulator to generate data for this project. Please refer to the [recent book about ML for fraud detection](https://fraud-detection-handbook.github.io/fraud-detection-handbook/Foreword.html) that introduces the simulator for more details. In the following, I will briefly explain the main ideas behind the transactions data generating process."
   ]
  },
  {
   "cell_type": "markdown",
   "metadata": {},
   "source": [
    "The following table describes the features that will be present in each transaction."
   ]
  },
  {
   "cell_type": "markdown",
   "metadata": {},
   "source": [
    "| Transaction Feature | Description |\n",
    "|:-------------------:|:-----------:|\n",
    "|TRANSACTION_ID | Unique identifier for the transaction.|\n",
    "|TX_DATETIME | Date and time of the transaction. |\n",
    "|CUSTOMER_ID | Unique identifier of the customer who made the transaction. |\n",
    "|TERMINAL_ID | Unique identifier of the terminal from which the transaction was made. |\n",
    "|TX_AMOUNT | The amount of the transaction. |\n",
    "|TX_FRAUD | Indicator variable for frauds (0 - Legitimate; 1 - Fraud).|\n",
    "\n"
   ]
  },
  {
   "cell_type": "markdown",
   "metadata": {},
   "source": [
    "The simulation process will have five main steps:"
   ]
  },
  {
   "cell_type": "markdown",
   "metadata": {},
   "source": [
    "1. Generation of customers profiles: each customer has different spending habits based on individual properties.\n",
    "\n",
    "2. Generation of terminal profiles: defines the geographical location of the terminal.\n",
    "\n",
    "3. Association of customer profiles to terminals: assumes that customers can only make transactions in terminals within a radius *r* of their geographical locations. Adds a feature 'list_terminals' to each customer profile, containing a set of terminals that the customer can use.\n",
    "\n",
    "4. Generation of transactions: generates transactions by the customer profiles.\n",
    "\n",
    "5. Generation of fraud scenarios: uses three different approaches to label some transactions as fraudulent."
   ]
  },
  {
   "cell_type": "markdown",
   "metadata": {},
   "source": [
    "## 1.1. Customer profiles generation"
   ]
  },
  {
   "cell_type": "markdown",
   "metadata": {},
   "source": [
    "The customers will be modelled by the following attributes:"
   ]
  },
  {
   "cell_type": "markdown",
   "metadata": {},
   "source": [
    "- CUSTOMER_ID: unique identifier of the customer.\n",
    "\n",
    "- (x_customer, y_customer): pair of real coordinates in a 100 x 100 grid that defines the geographical location of the customer.\n",
    "\n",
    "- (mean_amount, std_amount): mean and standard deviation of the transaction amounts for the customer, assuming that the transaction amounts follow a normal distribution. The mean_amount will be drawn from a uniform distribution (5,100) and the std_amount will be set as the mean_amount divided by two.\n",
    "\n",
    "- mean_nb_tx_per_day: The average number of transactions per day for the customer, assuming that the number of transactions per day follows a Poisson distribution. This number will be drawn from a uniform distribution (0,4)."
   ]
  },
  {
   "cell_type": "code",
   "execution_count": 2,
   "metadata": {},
   "outputs": [],
   "source": [
    "def generate_customer_profiles_table(n_customers, random_state=42):\n",
    "    \"\"\"\n",
    "    Generates a table of customer profiles.\n",
    "    \n",
    "    Each customer profile consists of the folowing properties:\n",
    "    * CUSTOMER_ID: unique identifier of the customer.\n",
    "    * (x_customer, y_customer): pair of real coordinates in a 100 x 100 grid that defines the geographical location\n",
    "    of the customer.\n",
    "    * (mean_amount, std_amount): mean and standard deviation of the transaction amounts for the customer, assuming\n",
    "    that the transaction amounts follow a normal distribution. The mean_amount will be drawn from a uniform\n",
    "    distribution (5,100) and the std_amount will be set as the mean_amount divided by two.\n",
    "    * mean_nb_tx_per_day: The average number of transactions per day for the customer, assuming that the number of\n",
    "    transactions per day follows a Poisson distribution. This number will be drawn from a uniform distribution (0,4).\n",
    "    \n",
    "    Parameters\n",
    "    ----------\n",
    "    n_customers: int\n",
    "        Number of customers for which to generate a profile\n",
    "    random_state: int\n",
    "        Random state for reproducibility of the results.\n",
    "    \n",
    "    Returns\n",
    "    -------\n",
    "    customer_profiles_table: pandas.DataFrame\n",
    "        Table containing the properties of each customer.\n",
    "        \n",
    "    \"\"\"\n",
    "    # Setting up\n",
    "    np.random.seed(random_state)\n",
    "    MAX_COORDINATE = 100\n",
    "    MIN_MEAN_AMOUNT = 5\n",
    "    MAX_MEAN_AMOUNT = 100\n",
    "    MAX_MEAN_NB_TX_PER_DAY = 4\n",
    "    \n",
    "    # Generate customer profiles\n",
    "    customers_properties = []\n",
    "    for customer_id in range(n_customers):\n",
    "        x_customer = np.random.uniform(0, MAX_COORDINATE)\n",
    "        y_customer = np.random.uniform(0, MAX_COORDINATE)\n",
    "        mean_amount = np.random.uniform(MIN_MEAN_AMOUNT, MAX_MEAN_AMOUNT)\n",
    "        std_amount = mean_amount / 2\n",
    "        mean_nb_tx_per_day = np.random.uniform(0, MAX_MEAN_NB_TX_PER_DAY)\n",
    "        customers_properties.append([\n",
    "            customer_id,\n",
    "            x_customer, y_customer,\n",
    "            mean_amount, std_amount,\n",
    "            mean_nb_tx_per_day\n",
    "        ])\n",
    "    customer_profiles_table = pd.DataFrame(customers_properties, columns=['CUSTOMER_ID',\n",
    "                                                                         'x_customer', 'y_customer',\n",
    "                                                                         'mean_amount', 'std_amount',\n",
    "                                                                         'mean_nb_tx_per_day'])\n",
    "    return customer_profiles_table "
   ]
  },
  {
   "cell_type": "markdown",
   "metadata": {},
   "source": [
    "## 1.2. Terminal profiles generation"
   ]
  },
  {
   "cell_type": "markdown",
   "metadata": {},
   "source": [
    "The terminals will be modelled by the following attributes:"
   ]
  },
  {
   "cell_type": "markdown",
   "metadata": {},
   "source": [
    "- TERMINAL_ID: unique identifier of the terminal.\n",
    "\n",
    "- (x_terminal, y_terminal): pair of real coordinates in a 100 x 100 grid that defines the geographical location of the temrinal."
   ]
  },
  {
   "cell_type": "code",
   "execution_count": 3,
   "metadata": {},
   "outputs": [],
   "source": [
    "def generate_terminal_profiles_table(n_terminals, random_state=42):\n",
    "    \"\"\"\n",
    "    Generates a table of terminal profiles.\n",
    "    \n",
    "    Each terminal profile consists of the folowing properties:\n",
    "    * TERMINAL_ID: unique identifier of the terminal.\n",
    "    * (x_temrinal, y_temrinal): pair of real coordinates in a 100 x 100 grid that defines the geographical location\n",
    "    of the terminal.\n",
    "    \n",
    "    Parameters\n",
    "    ----------\n",
    "    n_terminals: int\n",
    "        Number of terminals for which to generate a profile\n",
    "    random_state: int\n",
    "        Random state for reproducibility of the results.\n",
    "    \n",
    "    Returns\n",
    "    -------\n",
    "    terminal_profiles_table: pandas.DataFrame\n",
    "        Table containing the properties of each terminal.\n",
    "        \n",
    "    \"\"\"\n",
    "    # Setting up\n",
    "    np.random.seed(random_state)\n",
    "    MAX_COORDINATE = 100\n",
    "\n",
    "    # Generate terminal profiles\n",
    "    terminals_properties = []\n",
    "    for terminal_id in range(n_terminals):\n",
    "        x_terminal = np.random.uniform(0, MAX_COORDINATE)\n",
    "        y_terminal = np.random.uniform(0, MAX_COORDINATE)\n",
    "        terminals_properties.append([\n",
    "            terminal_id,\n",
    "            x_terminal, y_terminal,\n",
    "        ])\n",
    "    terminal_profiles_table = pd.DataFrame(terminals_properties, columns=['TERMINAL_ID',\n",
    "                                                                         'x_customer', 'y_customer',\n",
    "                                                                         ])\n",
    "    return terminal_profiles_table "
   ]
  },
  {
   "cell_type": "markdown",
   "metadata": {},
   "source": [
    "## 1.3. Association of customer profiles to terminals"
   ]
  },
  {
   "cell_type": "code",
   "execution_count": 4,
   "metadata": {},
   "outputs": [],
   "source": [
    "def get_list_terminals_within_radius(customer_profile, x_y_terminals, r):\n",
    "    \"\"\"\n",
    "    Generates the list of all terminals within a radius 'r' of the customer.\n",
    "    \n",
    "    The simulation assumes that customers can only make transactions in terminals within a radius r of their\n",
    "    geographical locations, which adds a feature 'list_terminals' to each customer profile, containing a set of\n",
    "    terminals that the customer can use.\n",
    "    \n",
    "    Parameters\n",
    "    ----------\n",
    "    customer_profile: pandas.Series\n",
    "        The profile of a customer (a row from customer_profiles_table).\n",
    "    x_y_terminals: numpy.ndarray\n",
    "        An array that contains the geographical locations of all terminals.\n",
    "    r: float\n",
    "        Radius around the customer location to determine terminal availability.\n",
    "    \n",
    "    Returns\n",
    "    -------\n",
    "    list_terminals: list\n",
    "        List of the IDs of the terminals available to the customer.\n",
    "        \n",
    "    \"\"\"\n",
    "    # Location of the customer\n",
    "    x_y_customer = customer_profile[['x_customer', 'y_customer']].values.astype(float)\n",
    "    \n",
    "    # Squared difference in coordinates between customer and terminal locations\n",
    "    squared_diff_x_y = np.square(x_y_customer - x_y_terminals)\n",
    "    \n",
    "    # Sum along rows and compute sqrt to get distance\n",
    "    dist_x_y = np.sqrt(np.sum(squared_diff_x_y, axis=1))\n",
    "    \n",
    "    # Get the indices of terminals which are at a distance less than r\n",
    "    list_terminals = list(np.where(dist_x_y < r)[0])\n",
    "\n",
    "    return list_terminals"
   ]
  },
  {
   "cell_type": "markdown",
   "metadata": {},
   "source": [
    "## 1.4. Generation of transactions"
   ]
  },
  {
   "cell_type": "markdown",
   "metadata": {},
   "source": [
    "The customers' properties regulate transaction features such as frequency and typical amounts. Besides this, the simulations will try to reflect that most transactions occur during the day. Therefore, the transaction times, in seconds along a day, will follow a normal distribution centered around noon with an std of 20000 seconds. "
   ]
  },
  {
   "cell_type": "code",
   "execution_count": 5,
   "metadata": {},
   "outputs": [],
   "source": [
    "def generate_transactions_table(customer_profile, start_date='2022-01-01', nb_days=200):\n",
    "    \"\"\"\n",
    "    Generates a table of unlabeled transactions by a customer profile.\n",
    "    \n",
    "    The customer's properties regulate transaction features such as frequency and typical amounts. The transaction\n",
    "    times, in seconds along a day, will follow a normal distribution centered around noon with an std of 20000 \n",
    "    seconds. \n",
    "    \n",
    "    Parameters\n",
    "    ----------\n",
    "    customer_profile: pandas.Series\n",
    "        The profile of a customer (a row from customer_profiles_table).\n",
    "    start_date: str\n",
    "        The date of the first transaction in the format \"YYYY-MM-DD\".\n",
    "    nb_days: int\n",
    "        The number of days to generate transactions.\n",
    "        \n",
    "    Returns\n",
    "    -------\n",
    "    customer_transactions: pandas.DataFrame\n",
    "        Table with transactions made by the customer over the specified period.\n",
    "\n",
    "    \"\"\"\n",
    "    # Setting up\n",
    "    customer_transactions = []\n",
    "    random.seed(int(customer_profile.CUSTOMER_ID))\n",
    "    np.random.seed(int(customer_profile.CUSTOMER_ID))\n",
    "    TOTAL_SECONDS_DAY = 86400\n",
    "    MEAN_TX_TIME = TOTAL_SECONDS_DAY / 2 # corresponding to noon\n",
    "    STD_TX_TIME = 20000\n",
    "    \n",
    "    \n",
    "    for day in range(nb_days):\n",
    "        # number of transactions for this day\n",
    "        nb_tx = np.random.poisson(customer_profile.mean_nb_tx_per_day)\n",
    "        \n",
    "        # if customer did some transactions, generate them\n",
    "        if nb_tx > 0: \n",
    "            for tx in range(nb_tx):\n",
    "                # time of the transaction, in seconds of that day.\n",
    "                tx_time = int(np.random(MEAN_TX_TIME, STD_TX_TIME))\n",
    "                # if transacton time is in the (0, TOTAL_SECONDS_DAY) interval, accept it\n",
    "                if 0 < tx_time and tx_time < TOTAL_SECONDS_DAY:\n",
    "                    amount = np.random.normal(customer_profile.mean_amount, customer_profile.std_amount)\n",
    "                    # if amount is negative, draw from a uniform disribution\n",
    "                    if amount < 0:\n",
    "                        amount = np.random.uniform(0, customer_profile.mean_amount * 2)\n",
    "                    else:\n",
    "                        pass\n",
    "                    amount = np.round(amount, decimals=2)\n",
    "                    # verify terminal availability\n",
    "                    if len(customer_profile.list_terminals) > 0:\n",
    "                        terminal_id = random.choice(customer_profile.list_terminals)\n",
    "                        customer_transactions.append([\n",
    "                            time_tx + day * TOTAL_SECONDS_DAY, day,\n",
    "                            customer_profile.CUSTOMER_ID,\n",
    "                            terminal_id, amount\n",
    "                        ])\n",
    "                    else:\n",
    "                        continue\n",
    "                else: \n",
    "                    continue\n",
    "        else:\n",
    "            continue\n",
    "    customer_transactions = pd.DataFrame(customer_transactions, columns=[\n",
    "        'TX_DATETIME', 'CUSTOMER_ID', 'TERMINAL_ID', 'TX_AMOUNT', 'TX_TIME_SECONDS', 'TX_TIME_DAYS'\n",
    "    ])\n",
    "    \n",
    "    if len(customer_transactions) > 0:\n",
    "        customer_transactions['TX_DATETIME'] = pd.to_datetime(customer_transactions['TX_TIME_SECONDS'], \n",
    "                                                             unit='s',\n",
    "                                                             origin=start_date)\n",
    "    else:\n",
    "        pass\n",
    "    \n",
    "    return customer_transactions"
   ]
  },
  {
   "cell_type": "markdown",
   "metadata": {},
   "source": [
    "At this point, it is possible to generate a dataset of unlabeled transactions."
   ]
  },
  {
   "cell_type": "code",
   "execution_count": 6,
   "metadata": {},
   "outputs": [],
   "source": [
    "def generate_dataset(n_customers=5000, n_terminals=10000, nb_days=200, start_date='2022-01-01', r=5):\n",
    "    '''\n",
    "    Generates an unlabeled dataset of transactions and displays relevant timing information.\n",
    "    \n",
    "    Each unlabeled transaction has the following features:\n",
    "    * TRANSACTION_ID: unique identifier for the transaction.\n",
    "    * TX_DATETIME: date and time of the transaction.\n",
    "    * CUSTOMER_ID: the unique identifier of the customer who made the transaction. \n",
    "    * TERMINAL_ID: the unique identifier of the terminal associated with the transaction. \n",
    "    * TX_AMOUNT: the amount of the transaction.\n",
    "    * TX_SECONDS: the number of elapsed seconds since the date of the first recorded transaction.\n",
    "    * TX_DAYS: the number of elapsed days since the date of the first recorded transaction.\n",
    "\n",
    "    \n",
    "    Parameters\n",
    "    ----------\n",
    "    n_customers: int\n",
    "        The number of customers of the institution.\n",
    "    n_terminals: int\n",
    "        The number of terminals with support of the institution.\n",
    "    nb_days: int\n",
    "        The number of days to generate transactions.\n",
    "    start_date: str\n",
    "        The date of the first transaction in the format \"YYYY-MM-DD\".\n",
    "    r: float\n",
    "        The radius (distance) 'r' determines the terminals available to each customer.\n",
    "        \n",
    "    Returns\n",
    "    -------\n",
    "    customer_profiles_table: pandas.DataFrame\n",
    "        Table with the properties of each customer.\n",
    "    terminal_profiles_table: pandas.DataFrame\n",
    "        Table with the properties of each terminal.\n",
    "    transactions_df: pandas.DataFrame\n",
    "        Table with all transactions of the simulation.\n",
    "    \n",
    "    '''\n",
    "    # set up pandarallel to enable parallel_apply pandas methods\n",
    "    pandarallel.initialize(use_memory_fs=False)\n",
    "\n",
    "    # Generate customer profiles\n",
    "    start_time = time.time()\n",
    "    customer_profiles_table = generate_customer_profiles_table(n_customers)\n",
    "    print(f'Time to generate customer profiles table: {time.time() - start_time:.2f}s.')\n",
    "    \n",
    "    # Generate terminal profiles\n",
    "    start_time = time.time()\n",
    "    terminal_profiles_table = generate_terminal_profiles_table(n_terminals)\n",
    "    print(f'Time to generate terminal profiles table: {time.time() - start_time:.2f}s.')\n",
    "    \n",
    "    # Associate terminals to customers\n",
    "    start_time = time.time()\n",
    "    x_y_terminals = terminal_profiles_table[['x_terminal', 'y_terminal']].values.astype(float)\n",
    "    customer_profiles_table['list_terminals'] = customer_profiles_table.parallel_apply(\n",
    "        lambda x: get_list_terminals_within_radius(x, x_y_temrinals, r), axis=1\n",
    "    )\n",
    "    print(f'Time to associate terminals to customers: {time.time() - start_time:.2f}s.')\n",
    "    \n",
    "    \n",
    "    # Generate transactions\n",
    "    start_time = time.time()\n",
    "    transactions_df = customer_profiles_table.groupby('CUSTOMER_ID').parallel_apply(\n",
    "        lambda x: generate_transactions_table(x.iloc[0], start_date, nb_days)\n",
    "    ).reset_index(drop=True)\n",
    "    print(f'Time to generate transactions: {time.time() - start_time:.2f}s.')\n",
    "    \n",
    "    # Sort transactions chronologically\n",
    "    transactions_df = transactions_df.sort_values('TX_DATETIME')\n",
    "    \n",
    "    # Reset indexes\n",
    "    transactions_df.reset_index(inplace=True, drop=True)\n",
    "    \n",
    "    # TRANSACTION_ID are the dataframe indices, startng from 0\n",
    "    transactions_df.reset_index(inplace=True)\n",
    "    transactions_df.rename(columns={'index':'TRANSACTION_ID'}, inplace=True)\n",
    "    \n",
    "    return (customer_profiles_table, terminal_profiles_table, transactions_df)"
   ]
  },
  {
   "cell_type": "code",
   "execution_count": 7,
   "metadata": {},
   "outputs": [
    {
     "name": "stdout",
     "output_type": "stream",
     "text": [
      "INFO: Pandarallel will run on 2 workers.\n",
      "INFO: Pandarallel will use standard multiprocessing data transfer (pipe) to transfer data between the main process and workers.\n",
      "Time to generate customer profiles table: 0.47s.\n"
     ]
    },
    {
     "ename": "NameError",
     "evalue": "name 'x_customer' is not defined",
     "output_type": "error",
     "traceback": [
      "\u001b[0;31m---------------------------------------------------------------------------\u001b[0m",
      "\u001b[0;31mNameError\u001b[0m                                 Traceback (most recent call last)",
      "Input \u001b[0;32mIn [7]\u001b[0m, in \u001b[0;36m<cell line: 1>\u001b[0;34m()\u001b[0m\n\u001b[0;32m----> 1\u001b[0m customer_profiles_table, terminal_profiles_table, transactions_df \u001b[38;5;241m=\u001b[39m \u001b[43mgenerate_dataset\u001b[49m\u001b[43m(\u001b[49m\u001b[43m)\u001b[49m\n",
      "Input \u001b[0;32mIn [6]\u001b[0m, in \u001b[0;36mgenerate_dataset\u001b[0;34m(n_customers, n_terminals, nb_days, start_date, r)\u001b[0m\n\u001b[1;32m     46\u001b[0m \u001b[38;5;66;03m# Generate terminal profiles\u001b[39;00m\n\u001b[1;32m     47\u001b[0m start_time \u001b[38;5;241m=\u001b[39m time\u001b[38;5;241m.\u001b[39mtime()\n\u001b[0;32m---> 48\u001b[0m terminal_profiles_table \u001b[38;5;241m=\u001b[39m \u001b[43mgenerate_terminal_profiles_table\u001b[49m\u001b[43m(\u001b[49m\u001b[43mn_terminals\u001b[49m\u001b[43m)\u001b[49m\n\u001b[1;32m     49\u001b[0m \u001b[38;5;28mprint\u001b[39m(\u001b[38;5;124mf\u001b[39m\u001b[38;5;124m'\u001b[39m\u001b[38;5;124mTime to generate terminal profiles table: \u001b[39m\u001b[38;5;132;01m{\u001b[39;00mtime\u001b[38;5;241m.\u001b[39mtime() \u001b[38;5;241m-\u001b[39m start_time\u001b[38;5;132;01m:\u001b[39;00m\u001b[38;5;124m.2f\u001b[39m\u001b[38;5;132;01m}\u001b[39;00m\u001b[38;5;124ms.\u001b[39m\u001b[38;5;124m'\u001b[39m)\n\u001b[1;32m     51\u001b[0m \u001b[38;5;66;03m# Associate terminals to customers\u001b[39;00m\n",
      "Input \u001b[0;32mIn [3]\u001b[0m, in \u001b[0;36mgenerate_terminal_profiles_table\u001b[0;34m(n_terminals, random_state)\u001b[0m\n\u001b[1;32m     30\u001b[0m     x_terminal \u001b[38;5;241m=\u001b[39m np\u001b[38;5;241m.\u001b[39mrandom\u001b[38;5;241m.\u001b[39muniform(\u001b[38;5;241m0\u001b[39m, MAX_COORDINATE)\n\u001b[1;32m     31\u001b[0m     y_terminal \u001b[38;5;241m=\u001b[39m np\u001b[38;5;241m.\u001b[39mrandom\u001b[38;5;241m.\u001b[39muniform(\u001b[38;5;241m0\u001b[39m, MAX_COORDINATE)\n\u001b[1;32m     32\u001b[0m     terminals_properties\u001b[38;5;241m.\u001b[39mappend([\n\u001b[1;32m     33\u001b[0m         terminal_id,\n\u001b[0;32m---> 34\u001b[0m         \u001b[43mx_customer\u001b[49m, y_customer,\n\u001b[1;32m     35\u001b[0m     ])\n\u001b[1;32m     36\u001b[0m terminal_profiles_table \u001b[38;5;241m=\u001b[39m pd\u001b[38;5;241m.\u001b[39mDataFrame(terminals_properties, columns\u001b[38;5;241m=\u001b[39m[\u001b[38;5;124m'\u001b[39m\u001b[38;5;124mTERMINAL_ID\u001b[39m\u001b[38;5;124m'\u001b[39m,\n\u001b[1;32m     37\u001b[0m                                                                      \u001b[38;5;124m'\u001b[39m\u001b[38;5;124mx_customer\u001b[39m\u001b[38;5;124m'\u001b[39m, \u001b[38;5;124m'\u001b[39m\u001b[38;5;124my_customer\u001b[39m\u001b[38;5;124m'\u001b[39m,\n\u001b[1;32m     38\u001b[0m                                                                      ])\n\u001b[1;32m     39\u001b[0m \u001b[38;5;28;01mreturn\u001b[39;00m terminal_profiles_table\n",
      "\u001b[0;31mNameError\u001b[0m: name 'x_customer' is not defined"
     ]
    }
   ],
   "source": [
    "customer_profiles_table, terminal_profiles_table, transactions_df = generate_dataset()"
   ]
  },
  {
   "cell_type": "code",
   "execution_count": null,
   "metadata": {},
   "outputs": [],
   "source": []
  }
 ],
 "metadata": {
  "kernelspec": {
   "display_name": "Python 3 (ipykernel)",
   "language": "python",
   "name": "python3"
  },
  "language_info": {
   "codemirror_mode": {
    "name": "ipython",
    "version": 3
   },
   "file_extension": ".py",
   "mimetype": "text/x-python",
   "name": "python",
   "nbconvert_exporter": "python",
   "pygments_lexer": "ipython3",
   "version": "3.10.4"
  },
  "vscode": {
   "interpreter": {
    "hash": "947aaa753c19e897d3e18e2dd78481e7588bf3ea48be8d5de7a0d33111fabf15"
   }
  }
 },
 "nbformat": 4,
 "nbformat_minor": 2
}
