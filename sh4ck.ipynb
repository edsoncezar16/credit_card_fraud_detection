{
 "cells": [
  {
   "cell_type": "markdown",
   "metadata": {},
   "source": [
    "# 0. Importing Necessary Libraries"
   ]
  },
  {
   "cell_type": "code",
   "execution_count": null,
   "metadata": {},
   "outputs": [],
   "source": [
    "import numpy as np\n",
    "import pandas as pd"
   ]
  },
  {
   "cell_type": "markdown",
   "metadata": {},
   "source": [
    "# 1. Transaction Data Simulator"
   ]
  },
  {
   "cell_type": "markdown",
   "metadata": {},
   "source": [
    "For confidentiality reasons, it is hard to find data related to fraud detection problems, despite its importance. Therefore, I will use a transaction data simulator to generate data for this project. Please refer to the [recent book about ML for fraud detection](https://fraud-detection-handbook.github.io/fraud-detection-handbook/Foreword.html) that introduces the simulator for more details. In the following, I will briefly explain the main ideas behind the transactions data generating process."
   ]
  },
  {
   "cell_type": "markdown",
   "metadata": {},
   "source": [
    "The following table describes the features that will be present in each transaction."
   ]
  },
  {
   "cell_type": "markdown",
   "metadata": {},
   "source": [
    "| Transaction Feature | Description |\n",
    "|:-------------------:|:-----------:|\n",
    "|TRANSACTION_ID | Unique identifier for the transaction.|\n",
    "|TX_DATETIME | Date and time of the transaction. |\n",
    "|CUSTOMER_ID | Unique identifier of the customer who made the transaction. |\n",
    "|TERMINAL_ID | Unique identifier of the terminal from which the transaction was made. |\n",
    "|TX_AMOUNT | The amount of the transaction. I will assume it is in US dollars. |\n",
    "|TX_FRAUD | Indicator variable for frauds (0 - Legitimate; 1 - Fraud).|\n",
    "\n"
   ]
  },
  {
   "cell_type": "markdown",
   "metadata": {},
   "source": [
    "The simulation process will have five main steps:"
   ]
  },
  {
   "cell_type": "markdown",
   "metadata": {},
   "source": [
    "1. Generation of customers profiles: each customer has different spending habits based on individual properties.\n",
    "\n",
    "2. Generation of terminal profiles: defines the geographical location of the terminal.\n",
    "\n",
    "3. Association of customer profiles to terminals: assumes that customers can only make transactions in terminals within a radius *r* of their geographical locations. Adds a feature 'list_terminals' to each customer profile, containing a set of terminals that the customer can use.\n",
    "\n",
    "4. Generation of transactions: generates transactions by the customer profiles.\n",
    "\n",
    "5. Generation of fraud scenarios: uses three different approaches to label some transactions as fraudulent."
   ]
  },
  {
   "cell_type": "markdown",
   "metadata": {},
   "source": [
    "## 1.1. Customer profiles generation"
   ]
  },
  {
   "cell_type": "markdown",
   "metadata": {},
   "source": [
    "The customers will be modelled by the following attributes:"
   ]
  },
  {
   "cell_type": "markdown",
   "metadata": {},
   "source": [
    "- CUSTOMER_ID: unique identifier of the customer.\n",
    "\n",
    "- (x_customer, y_customer): pair of real coordinates in a 100 x 100 grid that defines the geographical location of the customer.\n",
    "\n",
    "- (mean_amount, std_amount): mean and standard deviation of the transaction amounts for the customer, assuming that the transaction amounts follow a normal distribution. The mean_amount will be drawn from a uniform distribution (5,100) and the std_amount will be set as the mean_amount divided by two.\n",
    "\n",
    "- mean_nb_tx_per_day: The average number of transactions per day for the customer, assuming that the number of transactions per day follows a Poisson distribution. This number will be drawn from a uniform distribution (0,4)."
   ]
  },
  {
   "cell_type": "code",
   "execution_count": 1,
   "metadata": {},
   "outputs": [],
   "source": [
    "def generate_customer_profiles_table(n_customers, random_state=42):\n",
    "    \"\"\"\n",
    "    Generates a table of customer profiles.\n",
    "    \n",
    "    Each customer profile consists of the folowing properties:\n",
    "    * CUSTOMER_ID: unique identifier of the customer.\n",
    "    * (x_customer, y_customer): pair of real coordinates in a 100 x 100 grid that defines the geographical location\n",
    "    of the customer.\n",
    "    * (mean_amount, std_amount): mean and standard deviation of the transaction amounts for the customer, assuming\n",
    "    that the transaction amounts follow a normal distribution. The mean_amount will be drawn from a uniform\n",
    "    distribution (5,100) and the std_amount will be set as the mean_amount divided by two.\n",
    "    * mean_nb_tx_per_day: The average number of transactions per day for the customer, assuming that the number of\n",
    "    transactions per day follows a Poisson distribution. This number will be drawn from a uniform distribution (0,4).\n",
    "    \n",
    "    Parameters\n",
    "    ----------\n",
    "    n_customers: int\n",
    "        Number of customers for which to generate a profile\n",
    "    random_state: int\n",
    "        Random state for reproducibility of the results.\n",
    "    \n",
    "    Returns\n",
    "    -------\n",
    "    customer_profiles_table: pandas.DataFrame\n",
    "        Table containing the properties of each customer.\n",
    "        \n",
    "    \"\"\"\n",
    "    # Set random state\n",
    "    np.random.seed(random_state)\n",
    "    \n",
    "    # Generate customer profiles\n",
    "    customers_properties = []\n",
    "    for customer_id in range(n_customers):\n",
    "        x_customer = np.random.uniform(0, 100)\n",
    "        y_customer = np.random.uniform(0, 100)\n",
    "        mean_amount = np.random.uniform(5, 100)\n",
    "        std_amount = mean_amount / 2\n",
    "        mean_nb_tx_per_day = np.random.uniform(0, 4)\n",
    "        customers_properties.append([\n",
    "            customer_id,\n",
    "            x_customer, y_customer,\n",
    "            mean_amount, std_amount,\n",
    "            mean_nb_tx_per_day\n",
    "        ])\n",
    "    customer_profiles_table = pd.DataFrame(customers_properties, columns=['CUSTOMER_ID',\n",
    "                                                                         'x_customer', 'y_customer',\n",
    "                                                                         'mean_amount', 'std_amount',\n",
    "                                                                         'mean_nb_tx_per_day'])\n",
    "    return customer_profiles_table "
   ]
  },
  {
   "cell_type": "markdown",
   "metadata": {},
   "source": [
    "## 1.2. Terminal profiles generation"
   ]
  },
  {
   "cell_type": "markdown",
   "metadata": {},
   "source": [
    "The terminals will be modelled by the following attributes:"
   ]
  },
  {
   "cell_type": "markdown",
   "metadata": {},
   "source": [
    "- TERMINAL_ID: unique identifier of the terminal.\n",
    "\n",
    "- (x_terminal, y_terminal): pair of real coordinates in a 100 x 100 grid that defines the geographical location of the temrinal."
   ]
  },
  {
   "cell_type": "code",
   "execution_count": 1,
   "metadata": {},
   "outputs": [],
   "source": [
    "def generate_terminal_profiles_table(n_terminals, random_state=42):\n",
    "    \"\"\"\n",
    "    Generates a table of terminal profiles.\n",
    "    \n",
    "    Each terminal profile consists of the folowing properties:\n",
    "    * TERMINAL_ID: unique identifier of the terminal.\n",
    "    * (x_temrinal, y_temrinal): pair of real coordinates in a 100 x 100 grid that defines the geographical location\n",
    "    of the terminal.\n",
    "    \n",
    "    Parameters\n",
    "    ----------\n",
    "    n_terminals: int\n",
    "        Number of terminals for which to generate a profile\n",
    "    random_state: int\n",
    "        Random state for reproducibility of the results.\n",
    "    \n",
    "    Returns\n",
    "    -------\n",
    "    terminal_profiles_table: pandas.DataFrame\n",
    "        Table containing the properties of each terminal.\n",
    "        \n",
    "    \"\"\"\n",
    "    # Set random state\n",
    "    np.random.seed(random_state)\n",
    "    \n",
    "    # Generate terminal profiles\n",
    "    terminals_properties = []\n",
    "    for terminal_id in range(n_terminals):\n",
    "        x_terminal = np.random.uniform(0, 100)\n",
    "        y_terminal = np.random.uniform(0, 100)\n",
    "        terminals_properties.append([\n",
    "            terminal_id,\n",
    "            x_customer, y_customer,\n",
    "        ])\n",
    "    terminal_profiles_table = pd.DataFrame(terminals_properties, columns=['TERMINAL_ID',\n",
    "                                                                         'x_customer', 'y_customer',\n",
    "                                                                         ])\n",
    "    return terminal_profiles_table "
   ]
  },
  {
   "cell_type": "code",
   "execution_count": null,
   "metadata": {},
   "outputs": [],
   "source": []
  }
 ],
 "metadata": {
  "kernelspec": {
   "display_name": "Python 3 (ipykernel)",
   "language": "python",
   "name": "python3"
  },
  "language_info": {
   "codemirror_mode": {
    "name": "ipython",
    "version": 3
   },
   "file_extension": ".py",
   "mimetype": "text/x-python",
   "name": "python",
   "nbconvert_exporter": "python",
   "pygments_lexer": "ipython3",
   "version": "3.10.4"
  },
  "vscode": {
   "interpreter": {
    "hash": "947aaa753c19e897d3e18e2dd78481e7588bf3ea48be8d5de7a0d33111fabf15"
   }
  }
 },
 "nbformat": 4,
 "nbformat_minor": 2
}
