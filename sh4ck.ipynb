{
 "cells": [
  {
   "cell_type": "markdown",
   "metadata": {},
   "source": [
    "# 0. Importing Necessary Libraries"
   ]
  },
  {
   "cell_type": "code",
   "execution_count": null,
   "metadata": {},
   "outputs": [],
   "source": []
  },
  {
   "cell_type": "markdown",
   "metadata": {},
   "source": [
    "# 1. Transaction Data Simulator"
   ]
  },
  {
   "cell_type": "markdown",
   "metadata": {},
   "source": [
    "For confidentiality reasons, it is hard to find data related to fraud detection problems, despite its importance. Therefore, I will use a transaction data simulator to generate data for this project. For more details about the simulator, please refer to a [recent book about ML for fraud detection](https://fraud-detection-handbook.github.io/fraud-detection-handbook/Foreword.html). In the following, I will briefly explain the main ideas behind the transactions data generating process."
   ]
  },
  {
   "cell_type": "markdown",
   "metadata": {},
   "source": [
    "The following table describes the features that will be present in each transaction."
   ]
  },
  {
   "cell_type": "markdown",
   "metadata": {},
   "source": [
    "| Transaction Feature | Description |\n",
    "|:-------------------:|:-----------:|\n",
    "|TRANSACTION_ID | Unique identifier for the transaction.|\n",
    "|TX_DATETIME | Date and time of the transaction. |\n",
    "|CUSTOMER_ID | Unique identifier of the customer who made the transaction. |\n",
    "|TERMINAL_ID | Unique identifier of the terminal from which the transaction was made. |\n",
    "|TX_AMOUNT | The amount of the transaction. I will assume it is in US dollars. |\n",
    "|TX_FRAUD | Indicator variable for frauds (0 - Legitimate; 1 - Fraud).|\n",
    "\n"
   ]
  },
  {
   "cell_type": "code",
   "execution_count": null,
   "metadata": {},
   "outputs": [],
   "source": []
  }
 ],
 "metadata": {
  "kernelspec": {
   "display_name": "Python 3 (ipykernel)",
   "language": "python",
   "name": "python3"
  },
  "language_info": {
   "codemirror_mode": {
    "name": "ipython",
    "version": 3
   },
   "file_extension": ".py",
   "mimetype": "text/x-python",
   "name": "python",
   "nbconvert_exporter": "python",
   "pygments_lexer": "ipython3",
   "version": "3.10.4"
  },
  "vscode": {
   "interpreter": {
    "hash": "947aaa753c19e897d3e18e2dd78481e7588bf3ea48be8d5de7a0d33111fabf15"
   }
  }
 },
 "nbformat": 4,
 "nbformat_minor": 2
}
