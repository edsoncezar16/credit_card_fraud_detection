{
 "cells": [
  {
   "cell_type": "markdown",
   "metadata": {},
   "source": [
    "# 0. Importing Necessary Libraries"
   ]
  },
  {
   "cell_type": "code",
   "execution_count": 12,
   "metadata": {},
   "outputs": [],
   "source": [
    "import numpy as np\n",
    "import pandas as pd\n",
    "import random\n",
    "from pandarallel import pandarallel # for parallel computations with pandas\n",
    "import time\n",
    "import os\n",
    "from datetime import datetime, timedelta\n",
    "%matplotlib inline\n",
    "import matplotlib.pyplot as plt\n",
    "import seaborn as sns\n",
    "sns.set_style('darkgrid', {'axes.facecolor': '0.9'})"
   ]
  },
  {
   "cell_type": "markdown",
   "metadata": {},
   "source": [
    "# 1. Transaction Data Simulator"
   ]
  },
  {
   "cell_type": "markdown",
   "metadata": {},
   "source": [
    "For confidentiality reasons, it is hard to find data related to fraud detection problems, despite its importance. Therefore, I will use a transaction data simulator to generate data for this project. Please refer to the [recent book about ML for fraud detection](https://fraud-detection-handbook.github.io/fraud-detection-handbook/Foreword.html) that introduces the simulator for more details. In the following, I will briefly explain the main ideas behind the transactions data generating process."
   ]
  },
  {
   "cell_type": "markdown",
   "metadata": {},
   "source": [
    "The following table describes the features that will be present in each transaction."
   ]
  },
  {
   "cell_type": "markdown",
   "metadata": {},
   "source": [
    "| Transaction Feature | Description |\n",
    "|:-------------------:|:-----------:|\n",
    "|TRANSACTION_ID | Unique identifier for the transaction.|\n",
    "|TX_DATETIME | Date and time of the transaction. |\n",
    "|CUSTOMER_ID | Unique identifier of the customer who made the transaction. |\n",
    "|TERMINAL_ID | Unique identifier of the terminal from which the transaction was made. |\n",
    "|TX_AMOUNT | The amount of the transaction. |\n",
    "|TX_FRAUD | Indicator variable for frauds (0 - Legitimate; 1 - Fraud).|\n",
    "\n"
   ]
  },
  {
   "cell_type": "markdown",
   "metadata": {},
   "source": [
    "The simulation process will have five main steps:"
   ]
  },
  {
   "cell_type": "markdown",
   "metadata": {},
   "source": [
    "1. Generation of customers profiles: each customer has different spending habits based on individual properties.\n",
    "\n",
    "2. Generation of terminal profiles: defines the geographical location of the terminal.\n",
    "\n",
    "3. Association of customer profiles to terminals: assumes that customers can only make transactions in terminals within a radius *r* of their geographical locations. Adds a feature 'list_terminals' to each customer profile, containing a set of terminals that the customer can use.\n",
    "\n",
    "4. Generation of transactions: generates transactions by the customer profiles.\n",
    "\n",
    "5. Generation of fraud scenarios: uses three different approaches to label some transactions as fraudulent."
   ]
  },
  {
   "cell_type": "markdown",
   "metadata": {},
   "source": [
    "## 1.1. Customer profiles generation"
   ]
  },
  {
   "cell_type": "markdown",
   "metadata": {},
   "source": [
    "The customers will be modelled by the following attributes:"
   ]
  },
  {
   "cell_type": "markdown",
   "metadata": {},
   "source": [
    "- CUSTOMER_ID: unique identifier of the customer.\n",
    "\n",
    "- (x_customer, y_customer): pair of real coordinates in a 100 x 100 grid that defines the geographical location of the customer.\n",
    "\n",
    "- (mean_amount, std_amount): mean and standard deviation of the transaction amounts for the customer, assuming that the transaction amounts follow a normal distribution. The mean_amount will be drawn from a uniform distribution (5,100) and the std_amount will be set as the mean_amount divided by two.\n",
    "\n",
    "- mean_nb_tx_per_day: The average number of transactions per day for the customer, assuming that the number of transactions per day follows a Poisson distribution. This number will be drawn from a uniform distribution (0,4)."
   ]
  },
  {
   "cell_type": "code",
   "execution_count": 2,
   "metadata": {},
   "outputs": [],
   "source": [
    "def generate_customer_profiles_table(n_customers, random_state=42):\n",
    "    \"\"\"\n",
    "    Generates a table of customer profiles.\n",
    "    \n",
    "    Each customer profile consists of the folowing properties:\n",
    "    * CUSTOMER_ID: unique identifier of the customer.\n",
    "    * (x_customer, y_customer): pair of real coordinates in a 100 x 100 grid that defines the geographical location\n",
    "    of the customer.\n",
    "    * (mean_amount, std_amount): mean and standard deviation of the transaction amounts for the customer, assuming\n",
    "    that the transaction amounts follow a normal distribution. The mean_amount will be drawn from a uniform\n",
    "    distribution (5,100) and the std_amount will be set as the mean_amount divided by two.\n",
    "    * mean_nb_tx_per_day: The average number of transactions per day for the customer, assuming that the number of\n",
    "    transactions per day follows a Poisson distribution. This number will be drawn from a uniform distribution (0,4).\n",
    "    \n",
    "    Parameters\n",
    "    ----------\n",
    "    n_customers: int\n",
    "        Number of customers for which to generate a profile\n",
    "    random_state: int\n",
    "        Random state for reproducibility of the results.\n",
    "    \n",
    "    Returns\n",
    "    -------\n",
    "    customer_profiles_table: pandas.DataFrame\n",
    "        Table containing the properties of each customer.\n",
    "        \n",
    "    \"\"\"\n",
    "    # Setting up\n",
    "    np.random.seed(random_state)\n",
    "    MAX_COORDINATE = 100\n",
    "    MIN_MEAN_AMOUNT = 5\n",
    "    MAX_MEAN_AMOUNT = 100\n",
    "    MAX_MEAN_NB_TX_PER_DAY = 4\n",
    "    \n",
    "    # Generate customer profiles\n",
    "    customers_properties = []\n",
    "    for customer_id in range(n_customers):\n",
    "        x_customer = np.random.uniform(0, MAX_COORDINATE)\n",
    "        y_customer = np.random.uniform(0, MAX_COORDINATE)\n",
    "        mean_amount = np.random.uniform(MIN_MEAN_AMOUNT, MAX_MEAN_AMOUNT)\n",
    "        std_amount = mean_amount / 2\n",
    "        mean_nb_tx_per_day = np.random.uniform(0, MAX_MEAN_NB_TX_PER_DAY)\n",
    "        customers_properties.append([\n",
    "            customer_id,\n",
    "            x_customer, y_customer,\n",
    "            mean_amount, std_amount,\n",
    "            mean_nb_tx_per_day\n",
    "        ])\n",
    "    customer_profiles_table = pd.DataFrame(customers_properties, columns=['CUSTOMER_ID',\n",
    "                                                                         'x_customer', 'y_customer',\n",
    "                                                                         'mean_amount', 'std_amount',\n",
    "                                                                         'mean_nb_tx_per_day'])\n",
    "    return customer_profiles_table "
   ]
  },
  {
   "cell_type": "markdown",
   "metadata": {},
   "source": [
    "## 1.2. Terminal profiles generation"
   ]
  },
  {
   "cell_type": "markdown",
   "metadata": {},
   "source": [
    "The terminals will be modelled by the following attributes:"
   ]
  },
  {
   "cell_type": "markdown",
   "metadata": {},
   "source": [
    "- TERMINAL_ID: unique identifier of the terminal.\n",
    "\n",
    "- (x_terminal, y_terminal): pair of real coordinates in a 100 x 100 grid that defines the geographical location of the temrinal."
   ]
  },
  {
   "cell_type": "code",
   "execution_count": 3,
   "metadata": {},
   "outputs": [],
   "source": [
    "def generate_terminal_profiles_table(n_terminals, random_state=42):\n",
    "    \"\"\"\n",
    "    Generates a table of terminal profiles.\n",
    "    \n",
    "    Each terminal profile consists of the folowing properties:\n",
    "    * TERMINAL_ID: unique identifier of the terminal.\n",
    "    * (x_temrinal, y_temrinal): pair of real coordinates in a 100 x 100 grid that defines the geographical location\n",
    "    of the terminal.\n",
    "    \n",
    "    Parameters\n",
    "    ----------\n",
    "    n_terminals: int\n",
    "        Number of terminals for which to generate a profile\n",
    "    random_state: int\n",
    "        Random state for reproducibility of the results.\n",
    "    \n",
    "    Returns\n",
    "    -------\n",
    "    terminal_profiles_table: pandas.DataFrame\n",
    "        Table containing the properties of each terminal.\n",
    "        \n",
    "    \"\"\"\n",
    "    # Setting up\n",
    "    np.random.seed(random_state)\n",
    "    MAX_COORDINATE = 100\n",
    "\n",
    "    # Generate terminal profiles\n",
    "    terminals_properties = []\n",
    "    for terminal_id in range(n_terminals):\n",
    "        x_terminal = np.random.uniform(0, MAX_COORDINATE)\n",
    "        y_terminal = np.random.uniform(0, MAX_COORDINATE)\n",
    "        terminals_properties.append([\n",
    "            terminal_id,\n",
    "            x_terminal, y_terminal,\n",
    "        ])\n",
    "    terminal_profiles_table = pd.DataFrame(terminals_properties, columns=['TERMINAL_ID',\n",
    "                                                                         'x_terminal', 'y_terminal',\n",
    "                                                                         ])\n",
    "    return terminal_profiles_table "
   ]
  },
  {
   "cell_type": "markdown",
   "metadata": {},
   "source": [
    "## 1.3. Association of customer profiles to terminals"
   ]
  },
  {
   "cell_type": "code",
   "execution_count": 4,
   "metadata": {},
   "outputs": [],
   "source": [
    "def get_list_terminals_within_radius(customer_profile, x_y_terminals, r):\n",
    "    \"\"\"\n",
    "    Generates the list of all terminals within a radius 'r' of the customer.\n",
    "    \n",
    "    The simulation assumes that customers can only make transactions in terminals within a radius r of their\n",
    "    geographical locations, which adds a feature 'list_terminals' to each customer profile, containing a set of\n",
    "    terminals that the customer can use.\n",
    "    \n",
    "    Parameters\n",
    "    ----------\n",
    "    customer_profile: pandas.Series\n",
    "        The profile of a customer (a row from customer_profiles_table).\n",
    "    x_y_terminals: numpy.ndarray\n",
    "        An array that contains the geographical locations of all terminals.\n",
    "    r: float\n",
    "        Radius around the customer location to determine terminal availability.\n",
    "    \n",
    "    Returns\n",
    "    -------\n",
    "    list_terminals: list\n",
    "        List of the IDs of the terminals available to the customer.\n",
    "        \n",
    "    \"\"\"\n",
    "    # Location of the customer\n",
    "    x_y_customer = customer_profile[['x_customer', 'y_customer']].values.astype(float)\n",
    "    \n",
    "    # Squared difference in coordinates between customer and terminal locations\n",
    "    squared_diff_x_y = np.square(x_y_customer - x_y_terminals)\n",
    "    \n",
    "    # Sum along rows and compute sqrt to get distance\n",
    "    dist_x_y = np.sqrt(np.sum(squared_diff_x_y, axis=1))\n",
    "    \n",
    "    # Get the indices of terminals which are at a distance less than r\n",
    "    list_terminals = list(np.where(dist_x_y < r)[0])\n",
    "\n",
    "    return list_terminals"
   ]
  },
  {
   "cell_type": "markdown",
   "metadata": {},
   "source": [
    "## 1.4. Generation of transactions"
   ]
  },
  {
   "cell_type": "markdown",
   "metadata": {},
   "source": [
    "The customers' properties regulate transaction features such as frequency and typical amounts. Besides this, the simulations will try to reflect that most transactions occur during the day. Therefore, the transaction times, in seconds along a day, will follow a normal distribution centered around noon with an std of 20000 seconds. "
   ]
  },
  {
   "cell_type": "code",
   "execution_count": 5,
   "metadata": {},
   "outputs": [],
   "source": [
    "def generate_transactions_table(customer_profile, start_date='2022-01-01', nb_days=200):\n",
    "    \"\"\"\n",
    "    Generates a table of unlabeled transactions by a customer profile.\n",
    "    \n",
    "    The customer's properties regulate transaction features such as frequency and typical amounts. The transaction\n",
    "    times, in seconds along a day, will follow a normal distribution centered around noon with an std of 20000 \n",
    "    seconds. \n",
    "    \n",
    "    Parameters\n",
    "    ----------\n",
    "    customer_profile: pandas.Series\n",
    "        The profile of a customer (a row from customer_profiles_table).\n",
    "    start_date: str\n",
    "        The date of the first transaction in the format \"YYYY-MM-DD\".\n",
    "    nb_days: int\n",
    "        The number of days to generate transactions.\n",
    "        \n",
    "    Returns\n",
    "    -------\n",
    "    customer_transactions: pandas.DataFrame\n",
    "        Table with transactions made by the customer over the specified period.\n",
    "\n",
    "    \"\"\"\n",
    "    # Setting up\n",
    "    customer_transactions = []\n",
    "    random.seed(int(customer_profile.CUSTOMER_ID))\n",
    "    np.random.seed(int(customer_profile.CUSTOMER_ID))\n",
    "    TOTAL_SECONDS_DAY = 86400\n",
    "    MEAN_TX_TIME = TOTAL_SECONDS_DAY / 2 # corresponding to noon\n",
    "    STD_TX_TIME = 20000\n",
    "    \n",
    "    \n",
    "    for day in range(nb_days):\n",
    "        # number of transactions for this day\n",
    "        nb_tx = np.random.poisson(customer_profile.mean_nb_tx_per_day)\n",
    "        \n",
    "        # if customer did some transactions, generate them\n",
    "        if nb_tx > 0: \n",
    "            for tx in range(nb_tx):\n",
    "                # time of the transaction, in seconds of that day.\n",
    "                tx_time = int(np.random.normal(MEAN_TX_TIME, STD_TX_TIME))\n",
    "                # if transacton time is in the (0, TOTAL_SECONDS_DAY) interval, accept it\n",
    "                if 0 < tx_time and tx_time < TOTAL_SECONDS_DAY:\n",
    "                    amount = np.random.normal(customer_profile.mean_amount, customer_profile.std_amount)\n",
    "                    # if amount is negative, draw from a uniform disribution\n",
    "                    if amount < 0:\n",
    "                        amount = np.random.uniform(0, customer_profile.mean_amount * 2)\n",
    "                    else:\n",
    "                        pass\n",
    "                    amount = np.round(amount, decimals=2)\n",
    "                    # verify terminal availability\n",
    "                    if len(customer_profile.list_terminals) > 0:\n",
    "                        terminal_id = random.choice(customer_profile.list_terminals)\n",
    "                        customer_transactions.append([\n",
    "                            tx_time + day * TOTAL_SECONDS_DAY, day,\n",
    "                            customer_profile.CUSTOMER_ID,\n",
    "                            terminal_id, amount\n",
    "                        ])\n",
    "                    else:\n",
    "                        continue\n",
    "                else: \n",
    "                    continue\n",
    "        else:\n",
    "            continue\n",
    "    customer_transactions = pd.DataFrame(customer_transactions, columns=[\n",
    "        'TX_TIME_SECONDS', 'TX_TIME_DAYS', 'CUSTOMER_ID', 'TERMINAL_ID', 'TX_AMOUNT', \n",
    "    ])\n",
    "    \n",
    "    if len(customer_transactions) > 0:\n",
    "        customer_transactions['TX_DATETIME'] = pd.to_datetime(customer_transactions['TX_TIME_SECONDS'], \n",
    "                                                             unit='s',\n",
    "                                                             origin=start_date)\n",
    "        customer_transactions = customer_transactions[[\n",
    "            'TX_DATETIME', 'CUSTOMER_ID', 'TERMINAL_ID', 'TX_AMOUNT', 'TX_TIME_SECONDS', 'TX_TIME_DAYS'\n",
    "        ]]\n",
    "    else:\n",
    "        pass\n",
    "    \n",
    "    return customer_transactions"
   ]
  },
  {
   "cell_type": "markdown",
   "metadata": {},
   "source": [
    "At this point, it is possible to generate a dataset of unlabeled transactions."
   ]
  },
  {
   "cell_type": "code",
   "execution_count": 6,
   "metadata": {},
   "outputs": [],
   "source": [
    "def generate_dataset(n_customers=5000, n_terminals=10000, nb_days=200, start_date='2022-01-01', r=5):\n",
    "    '''\n",
    "    Generates an unlabeled dataset of transactions and displays relevant timing information.\n",
    "    \n",
    "    Each unlabeled transaction has the following features:\n",
    "    * TRANSACTION_ID: unique identifier for the transaction.\n",
    "    * TX_DATETIME: date and time of the transaction.\n",
    "    * CUSTOMER_ID: the unique identifier of the customer who made the transaction. \n",
    "    * TERMINAL_ID: the unique identifier of the terminal associated with the transaction. \n",
    "    * TX_AMOUNT: the amount of the transaction.\n",
    "    * TX_SECONDS: the number of elapsed seconds since the date of the first recorded transaction.\n",
    "    * TX_DAYS: the number of elapsed days since the date of the first recorded transaction.\n",
    "\n",
    "    \n",
    "    Parameters\n",
    "    ----------\n",
    "    n_customers: int\n",
    "        The number of customers of the institution.\n",
    "    n_terminals: int\n",
    "        The number of terminals with support of the institution.\n",
    "    nb_days: int\n",
    "        The number of days to generate transactions.\n",
    "    start_date: str\n",
    "        The date of the first transaction in the format \"YYYY-MM-DD\".\n",
    "    r: float\n",
    "        The radius (distance) 'r' determines the terminals available to each customer.\n",
    "        \n",
    "    Returns\n",
    "    -------\n",
    "    customer_profiles_table: pandas.DataFrame\n",
    "        Table with the properties of each customer.\n",
    "    terminal_profiles_table: pandas.DataFrame\n",
    "        Table with the properties of each terminal.\n",
    "    transactions_df: pandas.DataFrame\n",
    "        Table with all transactions of the simulation.\n",
    "    \n",
    "    '''\n",
    "    # set up pandarallel to enable parallel_apply pandas methods\n",
    "    pandarallel.initialize(use_memory_fs=False)\n",
    "\n",
    "    # Generate customer profiles\n",
    "    start_time = time.time()\n",
    "    customer_profiles_table = generate_customer_profiles_table(n_customers)\n",
    "    print(f'Time to generate customer profiles table: {time.time() - start_time:.2f}s.')\n",
    "    \n",
    "    # Generate terminal profiles\n",
    "    start_time = time.time()\n",
    "    terminal_profiles_table = generate_terminal_profiles_table(n_terminals)\n",
    "    print(f'Time to generate terminal profiles table: {time.time() - start_time:.2f}s.')\n",
    "    \n",
    "    # Associate terminals to customers\n",
    "    start_time = time.time()\n",
    "    x_y_terminals = terminal_profiles_table[['x_terminal', 'y_terminal']].values.astype(float)\n",
    "    customer_profiles_table['list_terminals'] = customer_profiles_table.parallel_apply(\n",
    "        lambda x: get_list_terminals_within_radius(x, x_y_terminals, r), axis=1\n",
    "    )\n",
    "    print(f'Time to associate terminals to customers: {time.time() - start_time:.2f}s.')\n",
    "    \n",
    "    \n",
    "    # Generate transactions\n",
    "    start_time = time.time()\n",
    "    transactions_df = customer_profiles_table.groupby('CUSTOMER_ID').parallel_apply(\n",
    "        lambda x: generate_transactions_table(x.iloc[0], start_date, nb_days),\n",
    "    ).reset_index(drop=True)\n",
    "    print(f'Time to generate transactions: {time.time() - start_time:.2f}s.')\n",
    "    \n",
    "    # Sort transactions chronologically\n",
    "    transactions_df = transactions_df.sort_values('TX_DATETIME')\n",
    "    \n",
    "    # Reset indexes\n",
    "    transactions_df.reset_index(inplace=True, drop=True)\n",
    "    \n",
    "    # TRANSACTION_ID are the dataframe indices, startng from 0\n",
    "    transactions_df.reset_index(inplace=True)\n",
    "    transactions_df.rename(columns={'index':'TRANSACTION_ID'}, inplace=True)\n",
    "    \n",
    "    return (customer_profiles_table, terminal_profiles_table, transactions_df)"
   ]
  },
  {
   "cell_type": "code",
   "execution_count": 7,
   "metadata": {},
   "outputs": [
    {
     "name": "stdout",
     "output_type": "stream",
     "text": [
      "INFO: Pandarallel will run on 2 workers.\n",
      "INFO: Pandarallel will use standard multiprocessing data transfer (pipe) to transfer data between the main process and workers.\n",
      "Time to generate customer profiles table: 0.21s.\n",
      "Time to generate terminal profiles table: 0.21s.\n",
      "Time to associate terminals to customers: 9.21s.\n",
      "Time to generate transactions: 227.76s.\n"
     ]
    }
   ],
   "source": [
    "customer_profiles_table, terminal_profiles_table, transactions_df = generate_dataset()"
   ]
  },
  {
   "cell_type": "markdown",
   "metadata": {},
   "source": [
    "## 1.5. Fraud scenarios generation"
   ]
  },
  {
   "cell_type": "markdown",
   "metadata": {},
   "source": [
    "Finally, the simulation adds fraud labels to the transactions by the following scenarios:"
   ]
  },
  {
   "cell_type": "markdown",
   "metadata": {},
   "source": [
    "1. Any transaction of more than 220 is fraud. This scenario intends to validate the implementation of any fraud detection system, as any system should be able to discern such an obvious pattern.\n",
    "\n",
    "2. Every day, randomly select two terminals and assign any transactions from these terminals as fraudulent for the next 28 days. This scenario simulates known criminal tactics such as phishing.\n",
    "\n",
    "3. Every day, randomly select three customers. In the next 14 days, select 1/3 of their transactions, multiply the amounts by five and mark them as fraudulent. This scenario simulates customer credentials leakage. The customer continues to make transactions within his spending habits. Meanwhile, the fraudster tries to maximize his gains by making sporadic transactions of large amounts."
   ]
  },
  {
   "cell_type": "code",
   "execution_count": 10,
   "metadata": {},
   "outputs": [],
   "source": [
    "def add_frauds(customer_profiles_table, terminal_profiles_table, transactions_df):\n",
    "    '''\n",
    "    Adds fraud labels to a dataset of transactions and displays relevant statistics.\n",
    "    \n",
    "    The labels follow three different fraud scenarios:\n",
    "    1 -> Any transaction of more than 220 is fraud. This scenario intends to validate the implementation of any fraud\n",
    "    detection system, as any system should be able to discern such an obvious pattern.\n",
    "    2 -> Every day, randomly select two terminals and assign any transactions from these terminals as fraudulent for\n",
    "    the next 28 days. This scenario simulates known criminal tactics such as phishing.\n",
    "    3 -> Every day, randomly select three customers. In the next 14 days, select 1/3 of their transactions, multiply \n",
    "    the amounts by five and mark them as fraudulent. This scenario simulates customer credentials leakage. The \n",
    "    customer continues to make transactions within his spending habits. Meanwhile, the fraudster tries to maximize \n",
    "    his gains by making sporadic transactions of large amounts.\n",
    "    \n",
    "    Parameters\n",
    "    ----------\n",
    "    customer_profiles_table: pandas.DataFrame\n",
    "        Table with the properties of each customer.\n",
    "    terminal_profiles_table: pandas.DataFrame\n",
    "        Table with the properties of each terminal.\n",
    "    transactions_df: pandas.DataFrame\n",
    "        Table with all transactions of the simulation.\n",
    "        \n",
    "    Returns\n",
    "    -------\n",
    "    labeled_transactions_df: pandas.DataFrame\n",
    "        Table of all transactions with the corresponding fraud labels and scenarios.\n",
    "    \n",
    "    '''\n",
    "    # Set up\n",
    "    labeled_transactions_df = transactions_df.copy()\n",
    "    AMOUNT_THRESHOLD = 220\n",
    "    COMPROMISED_TERMINALS_PER_DAY = 2\n",
    "    COMPROMISE_PERIOD_DAYS = 28\n",
    "    LEAKED_CREDENTIALS_PER_DAY = 3\n",
    "    LEAKAGE_PERIOD_DAYS = 14\n",
    "    FRAUD_FRACTION = 1 / 3\n",
    "    FRAUD_AMOUNT_FACTOR = 5\n",
    "    \n",
    "    \n",
    "    # By default, all transactions are genuine\n",
    "    labeled_transactions_df['TX_FRAUD'] = 0\n",
    "    labeled_transactions_df['TX_FRAUD_SCENARIO'] = 0 #\n",
    "    \n",
    "    # Scenario 1\n",
    "    labeled_transactions_df.loc[labeled_transactions_df.TX_AMOUNT > AMOUNT_THRESHOLD, 'TX_FRAUD'] = 1\n",
    "    labeled_transactions_df.loc[labeled_transactions_df.TX_AMOUNT > AMOUNT_THRESHOLD, 'TX_FRAUD_SCENARIO'] = 1\n",
    "    nb_frauds_scenario_1 = labeled_transactions_df.TX_FRAUD.sum()\n",
    "    print(f'Number of frauds from scenario 1: {nb_frauds_scenario_1}')\n",
    "    \n",
    "    # Scenario 2\n",
    "    for day in range(transactions_df.TX_TIME_DAYS.max()):\n",
    "        comprimised_terminals = terminal_profiles_table.TERMINAL_ID.sample(\n",
    "            n=COMPROMISED_TERMINALS_PER_DAY, random_state=day\n",
    "        )\n",
    "        compromised_transactions = transactions_df[\n",
    "            (transactions_df.TX_TIME_DAYS >= day) &\n",
    "            (transactions_df.TX_TIME_DAYS < day + COMPROMISE_PERIOD_DAYS) &\n",
    "            (transactions_df.TERMINAL_ID.isin(comprimised_terminals))\n",
    "        ]\n",
    "        labeled_transactions_df.loc[compromised_transactions.index, 'TX_FRAUD'] = 1\n",
    "        labeled_transactions_df.loc[compromised_transactions.index, 'TX_FRAUD_SCENARIO'] = 2\n",
    "    nb_frauds_scenario_2 = labeled_transactions_df.TX_FRAUD.sum() - nb_frauds_scenario_1\n",
    "    print(f'Number of frauds from scenario 2: {nb_frauds_scenario_2}')\n",
    "    \n",
    "    \n",
    "    # Scenario 3\n",
    "    for day in range(transactions_df.TX_TIME_DAYS.max()):\n",
    "        comprimised_customers = customer_profiles_table.CUSTOMER_ID.sample(\n",
    "            n=LEAKED_CREDENTIALS_PER_DAY, random_state=day\n",
    "        ).values\n",
    "        compromised_transactions = transactions_df[\n",
    "            (transactions_df.TX_TIME_DAYS >= day) &\n",
    "            (transactions_df.TX_TIME_DAYS < day + LEAKAGE_PERIOD_DAYS) &\n",
    "            (transactions_df.CUSTOMER_ID.isin(comprimised_customers))\n",
    "        ]\n",
    "        nb_compromised_transactions = len(compromised_transactions)\n",
    "        \n",
    "        # select 1/3 of transactions and make them fraudulent\n",
    "        random.seed(day)\n",
    "        index_frauds = random.sample(\n",
    "            list(compromised_transactions.index.values), k=int(nb_compromised_transactions * FRAUD_FRACTION)\n",
    "        )\n",
    "        labeled_transactions_df.loc[index_frauds, 'TX_AMOUNT'] *= FRAUD_AMOUNT_FACTOR\n",
    "        labeled_transactions_df.loc[index_frauds, 'TX_FRAUD'] = 1\n",
    "        labeled_transactions_df.loc[index_frauds, 'TX_FRAUD_SCENARIO'] = 3\n",
    "    nb_frauds_scenario_3 = labeled_transactions_df.TX_FRAUD.sum() - nb_frauds_scenario_2 - nb_frauds_scenario_1\n",
    "    print(f'Number of frauds from scenario 3: {nb_frauds_scenario_3}')\n",
    "\n",
    "    return labeled_transactions_df"
   ]
  },
  {
   "cell_type": "code",
   "execution_count": 11,
   "metadata": {},
   "outputs": [
    {
     "name": "stdout",
     "output_type": "stream",
     "text": [
      "Number of frauds from scenario 1: 1055\n",
      "Number of frauds from scenario 2: 10276\n",
      "Number of frauds from scenario 3: 5097\n",
      "CPU times: user 5min 2s, sys: 226 ms, total: 5min 2s\n",
      "Wall time: 5min 2s\n"
     ]
    }
   ],
   "source": [
    "%time transactions_df = add_frauds(customer_profiles_table, terminal_profiles_table, transactions_df)"
   ]
  },
  {
   "cell_type": "markdown",
   "metadata": {},
   "source": [
    "## 1.6. Saving of dataset"
   ]
  },
  {
   "cell_type": "markdown",
   "metadata": {},
   "source": [
    "The dataset is saved in daily batches to allow further control when loading data from specific periods. The pickle format is chosen over CSV to speed up loading times."
   ]
  },
  {
   "cell_type": "code",
   "execution_count": 38,
   "metadata": {},
   "outputs": [],
   "source": [
    "def save_to_files(dir_output, transactions_df, start_date):\n",
    "    '''\n",
    "    Saves a table of transactions to pickle files in daily batches.\n",
    "    \n",
    "    The pickle files are named 'YYYY-MM-DD.pkl' into the directory 'dir_output'. The 'start_date' defines the date\n",
    "    of the first transaction, and subsequent transactions are saved based on the number of seconds elapsed since\n",
    "    day one.\n",
    "    \n",
    "    Parameters\n",
    "    ----------\n",
    "    dir_output: str\n",
    "        A string containing the path of the directory that will store the files.\n",
    "    transactions_df: pandas.DataFrame\n",
    "        A table containing the transactions to save.\n",
    "    start_date: str\n",
    "        A string containing the date assigned to the first transaction in the table, in the form 'YYYY-MM-DD'.\n",
    "    \n",
    "    Returns\n",
    "    -------\n",
    "        None\n",
    "    \n",
    "    '''\n",
    "    if not os.path.exists(dir_output):\n",
    "        os.makedirs(dir_output)\n",
    "    else:\n",
    "        pass\n",
    "    start_date = datetime.strptime(start_date, '%Y-%m-%d')\n",
    "    for day in range(transactions_df.TX_TIME_DAYS.max() + 1):\n",
    "        transactions_day = transactions_df[transactions_df.TX_TIME_DAYS == day].sort_values('TX_TIME_SECONDS')\n",
    "        date = start_date + timedelta(days=day)\n",
    "        filename_output = date.strftime('%Y-%m-%d') + '.pkl'\n",
    "        # Protocol = 4 required by Google Colab\n",
    "        transactions_day.to_pickle(DIR_OUTPUT + filename_output, protocol=4)"
   ]
  },
  {
   "cell_type": "code",
   "execution_count": 15,
   "metadata": {},
   "outputs": [],
   "source": [
    "# Save simulated transactions\n",
    "save_to_files('./simulated_data_raw/', transactions_df, '2022-01-01')"
   ]
  },
  {
   "cell_type": "markdown",
   "metadata": {},
   "source": [
    "# 2. Exploratory Data Analysis and Feature Engineering"
   ]
  },
  {
   "cell_type": "markdown",
   "metadata": {},
   "source": [
    "## 2.1. Loading the data"
   ]
  },
  {
   "cell_type": "code",
   "execution_count": 4,
   "metadata": {},
   "outputs": [],
   "source": [
    "def read_from_files(dir_input, begin_date, end_date):\n",
    "    '''\n",
    "    Loads a set of transaction files into a single DataFrame and orders it by transaction time.\n",
    "    \n",
    "    The transaction files are pickle files in 'dir_input', with the file names in the format 'YYYY-MM-DD.pkl'. This \n",
    "    way, the parameters begin_date and end_date control which files are loaded.\n",
    "    \n",
    "    Parameters\n",
    "    ----------\n",
    "    dir_input: str\n",
    "        A string containing the path of the directory that stores the files.\n",
    "    begin_date: str\n",
    "        A string containing the first day of transactions to load, in the form 'YYYY-MM-DD'.\n",
    "    end_date: str\n",
    "        A string containing the last day of transactions to load, in the form 'YYYY-MM-DD'.\n",
    "        \n",
    "    Returns\n",
    "    -------\n",
    "    transactions_df: pandas.DataFrame\n",
    "        A table with all requested transactions.\n",
    "    \n",
    "    '''\n",
    "    files = [os.path.join(dir_input, file) \n",
    "             for file in os.listdir(dir_input) if file >= begin_date+'.pkl' and file <= end_date+'.pkl']\n",
    "    data_frames = []\n",
    "    for file in files:\n",
    "        data_frame = pd.read_pickle(file)\n",
    "        data_frames.append(data_frame)\n",
    "        del data_frame\n",
    "    transactions_df = pd.concat(data_frames)\n",
    "    transactions_df = transactions_df.sort_values('TX_DATETIME')\n",
    "    transactions_df.reset_index(drop=True,inplace=True)\n",
    "    return transactions_df"
   ]
  },
  {
   "cell_type": "code",
   "execution_count": 5,
   "metadata": {},
   "outputs": [
    {
     "name": "stdout",
     "output_type": "stream",
     "text": [
      "CPU times: user 2.41 s, sys: 1.26 s, total: 3.67 s\n",
      "Wall time: 3.77 s\n"
     ]
    }
   ],
   "source": [
    "# loading transactions from the first semester of 2022\n",
    "%time transactions_df = read_from_files('./simulated_data_raw/', '2022-01-01', '2022-06-30')"
   ]
  },
  {
   "cell_type": "markdown",
   "metadata": {},
   "source": [
    "## 2.2. Exploring the data"
   ]
  },
  {
   "cell_type": "code",
   "execution_count": 7,
   "metadata": {},
   "outputs": [
    {
     "data": {
      "text/plain": [
       "(1758005, 9)"
      ]
     },
     "execution_count": 7,
     "metadata": {},
     "output_type": "execute_result"
    }
   ],
   "source": [
    "# visualize number of transactions and features\n",
    "transactions_df.shape"
   ]
  },
  {
   "cell_type": "code",
   "execution_count": 8,
   "metadata": {},
   "outputs": [
    {
     "data": {
      "text/html": [
       "<div>\n",
       "<style scoped>\n",
       "    .dataframe tbody tr th:only-of-type {\n",
       "        vertical-align: middle;\n",
       "    }\n",
       "\n",
       "    .dataframe tbody tr th {\n",
       "        vertical-align: top;\n",
       "    }\n",
       "\n",
       "    .dataframe thead th {\n",
       "        text-align: right;\n",
       "    }\n",
       "</style>\n",
       "<table border=\"1\" class=\"dataframe\">\n",
       "  <thead>\n",
       "    <tr style=\"text-align: right;\">\n",
       "      <th></th>\n",
       "      <th>TRANSACTION_ID</th>\n",
       "      <th>TX_DATETIME</th>\n",
       "      <th>CUSTOMER_ID</th>\n",
       "      <th>TERMINAL_ID</th>\n",
       "      <th>TX_AMOUNT</th>\n",
       "      <th>TX_TIME_SECONDS</th>\n",
       "      <th>TX_TIME_DAYS</th>\n",
       "      <th>TX_FRAUD</th>\n",
       "      <th>TX_FRAUD_SCENARIO</th>\n",
       "    </tr>\n",
       "  </thead>\n",
       "  <tbody>\n",
       "    <tr>\n",
       "      <th>0</th>\n",
       "      <td>0</td>\n",
       "      <td>2022-01-01 00:00:31</td>\n",
       "      <td>1829</td>\n",
       "      <td>4083</td>\n",
       "      <td>22.35</td>\n",
       "      <td>31</td>\n",
       "      <td>0</td>\n",
       "      <td>0</td>\n",
       "      <td>0</td>\n",
       "    </tr>\n",
       "    <tr>\n",
       "      <th>1</th>\n",
       "      <td>1</td>\n",
       "      <td>2022-01-01 00:01:59</td>\n",
       "      <td>157</td>\n",
       "      <td>3553</td>\n",
       "      <td>9.53</td>\n",
       "      <td>119</td>\n",
       "      <td>0</td>\n",
       "      <td>0</td>\n",
       "      <td>0</td>\n",
       "    </tr>\n",
       "    <tr>\n",
       "      <th>2</th>\n",
       "      <td>2</td>\n",
       "      <td>2022-01-01 00:02:29</td>\n",
       "      <td>834</td>\n",
       "      <td>4124</td>\n",
       "      <td>82.26</td>\n",
       "      <td>149</td>\n",
       "      <td>0</td>\n",
       "      <td>0</td>\n",
       "      <td>0</td>\n",
       "    </tr>\n",
       "    <tr>\n",
       "      <th>3</th>\n",
       "      <td>3</td>\n",
       "      <td>2022-01-01 00:04:47</td>\n",
       "      <td>2845</td>\n",
       "      <td>6957</td>\n",
       "      <td>25.29</td>\n",
       "      <td>287</td>\n",
       "      <td>0</td>\n",
       "      <td>0</td>\n",
       "      <td>0</td>\n",
       "    </tr>\n",
       "    <tr>\n",
       "      <th>4</th>\n",
       "      <td>4</td>\n",
       "      <td>2022-01-01 00:07:04</td>\n",
       "      <td>1565</td>\n",
       "      <td>8020</td>\n",
       "      <td>31.69</td>\n",
       "      <td>424</td>\n",
       "      <td>0</td>\n",
       "      <td>0</td>\n",
       "      <td>0</td>\n",
       "    </tr>\n",
       "  </tbody>\n",
       "</table>\n",
       "</div>"
      ],
      "text/plain": [
       "   TRANSACTION_ID         TX_DATETIME CUSTOMER_ID TERMINAL_ID  TX_AMOUNT  \\\n",
       "0               0 2022-01-01 00:00:31        1829        4083      22.35   \n",
       "1               1 2022-01-01 00:01:59         157        3553       9.53   \n",
       "2               2 2022-01-01 00:02:29         834        4124      82.26   \n",
       "3               3 2022-01-01 00:04:47        2845        6957      25.29   \n",
       "4               4 2022-01-01 00:07:04        1565        8020      31.69   \n",
       "\n",
       "  TX_TIME_SECONDS TX_TIME_DAYS  TX_FRAUD  TX_FRAUD_SCENARIO  \n",
       "0              31            0         0                  0  \n",
       "1             119            0         0                  0  \n",
       "2             149            0         0                  0  \n",
       "3             287            0         0                  0  \n",
       "4             424            0         0                  0  "
      ]
     },
     "execution_count": 8,
     "metadata": {},
     "output_type": "execute_result"
    }
   ],
   "source": [
    "# inspecting a few instances\n",
    "transactions_df.head()"
   ]
  },
  {
   "cell_type": "code",
   "execution_count": 19,
   "metadata": {},
   "outputs": [
    {
     "name": "stdout",
     "output_type": "stream",
     "text": [
      "<class 'pandas.core.frame.DataFrame'>\n",
      "RangeIndex: 1758005 entries, 0 to 1758004\n",
      "Data columns (total 9 columns):\n",
      " #   Column             Dtype         \n",
      "---  ------             -----         \n",
      " 0   TRANSACTION_ID     int64         \n",
      " 1   TX_DATETIME        datetime64[ns]\n",
      " 2   CUSTOMER_ID        object        \n",
      " 3   TERMINAL_ID        object        \n",
      " 4   TX_AMOUNT          float64       \n",
      " 5   TX_TIME_SECONDS    object        \n",
      " 6   TX_TIME_DAYS       object        \n",
      " 7   TX_FRAUD           int64         \n",
      " 8   TX_FRAUD_SCENARIO  int64         \n",
      "dtypes: datetime64[ns](1), float64(1), int64(3), object(4)\n",
      "memory usage: 120.7+ MB\n"
     ]
    }
   ],
   "source": [
    "# getting general information about the data\n",
    "transactions_df.info()"
   ]
  },
  {
   "cell_type": "code",
   "execution_count": 22,
   "metadata": {},
   "outputs": [
    {
     "data": {
      "text/plain": [
       "TRANSACTION_ID       0\n",
       "TX_DATETIME          0\n",
       "CUSTOMER_ID          0\n",
       "TERMINAL_ID          0\n",
       "TX_AMOUNT            0\n",
       "TX_TIME_SECONDS      0\n",
       "TX_TIME_DAYS         0\n",
       "TX_FRAUD             0\n",
       "TX_FRAUD_SCENARIO    0\n",
       "dtype: int64"
      ]
     },
     "execution_count": 22,
     "metadata": {},
     "output_type": "execute_result"
    }
   ],
   "source": [
    "# checking for missing values\n",
    "transactions_df.isnull().sum()"
   ]
  },
  {
   "cell_type": "code",
   "execution_count": 23,
   "metadata": {},
   "outputs": [],
   "source": [
    "# convert data to appropriate types\n",
    "transactions_df.TRANSACTION_ID = transactions_df.TRANSACTION_ID.astype(str)\n",
    "transactions_df.TX_TIME_DAYS = transactions_df.TX_TIME_DAYS.astype(int)\n",
    "transactions_df.TX_TIME_SECONDS = transactions_df.TX_TIME_SECONDS.astype(int)"
   ]
  },
  {
   "cell_type": "code",
   "execution_count": 13,
   "metadata": {},
   "outputs": [
    {
     "data": {
      "text/plain": [
       "0    1743230\n",
       "1      14775\n",
       "Name: TX_FRAUD, dtype: int64"
      ]
     },
     "execution_count": 13,
     "metadata": {},
     "output_type": "execute_result"
    }
   ],
   "source": [
    "# exploring distribution of the response variable: 'tx_fraud'\n",
    "transactions_df.TX_FRAUD.value_counts()"
   ]
  },
  {
   "cell_type": "code",
   "execution_count": 18,
   "metadata": {},
   "outputs": [
    {
     "data": {
      "image/png": "[encoded data removed]",
      "text/plain": [
       "<Figure size 432x288 with 1 Axes>"
      ]
     },
     "metadata": {},
     "output_type": "display_data"
    }
   ],
   "source": [
    "# visualize proportion of fraudulent transactions\n",
    "ax = sns.histplot(x='TX_FRAUD', data=transactions_df, stat='percent')\n",
    "plt.title('Proportion of fraudulent transactions.')\n",
    "plt.show()"
   ]
  },
  {
   "cell_type": "code",
   "execution_count": 29,
   "metadata": {},
   "outputs": [
    {
     "data": {
      "image/png": "[encoded data removed]",
      "text/plain": [
       "<Figure size 432x288 with 1 Axes>"
      ]
     },
     "metadata": {},
     "output_type": "display_data"
    }
   ],
   "source": [
    "# visualize relation between transaction amounts and frauds\n",
    "ax = sns.histplot(x='TX_AMOUNT', hue='TX_FRAUD', data=transactions_df, stat='percent', bins=50, common_norm=False)\n",
    "ax.set_title('Transaction amount distribution between fraudulent and non-fraudulent transactions');"
   ]
  },
  {
   "cell_type": "markdown",
   "metadata": {},
   "source": [
    "At this stage of the EDA,  we can identify the fraud pattern associated with transactions above 200 monetary units."
   ]
  },
  {
   "cell_type": "code",
   "execution_count": 36,
   "metadata": {},
   "outputs": [
    {
     "data": {
      "image/png": "[encoded data removed]",
      "text/plain": [
       "<Figure size 432x288 with 1 Axes>"
      ]
     },
     "metadata": {},
     "output_type": "display_data"
    }
   ],
   "source": [
    "# visualize relationship between transaction times and frauds\n",
    "SECONDS_IN_A_DAY = 86400\n",
    "time_plot_df = transactions_df.loc[:, ['TX_TIME_SECONDS', 'TX_FRAUD']].copy() # aux df for this vizualization\n",
    "time_plot_df['TX_TIME_DAYS'] = time_plot_df.TX_TIME_SECONDS / SECONDS_IN_A_DAY\n",
    "ax = sns.histplot(x='TX_TIME_DAYS', hue='TX_FRAUD', data=time_plot_df, stat='percent', common_norm=False)\n",
    "ax.set_title('Transaction time distribution between fraudulent and non-fraudulent transactions');"
   ]
  },
  {
   "cell_type": "markdown",
   "metadata": {},
   "source": [
    "One can note periodic increases in fraudulent activity over the six months, consistent with known fraudster patterns like phishing and credential leakage. "
   ]
  },
  {
   "cell_type": "markdown",
   "metadata": {},
   "source": [
    "## 2.3. Feature Engineeering"
   ]
  },
  {
   "cell_type": "markdown",
   "metadata": {},
   "source": [
    "One of the most important stages of a data science project is feature enginnering, where we leverage the potential information in the data with domain knowledge to maximize the business value generated by ML models."
   ]
  },
  {
   "cell_type": "code",
   "execution_count": null,
   "metadata": {},
   "outputs": [],
   "source": []
  }
 ],
 "metadata": {
  "kernelspec": {
   "display_name": "Python 3 (ipykernel)",
   "language": "python",
   "name": "python3"
  },
  "language_info": {
   "codemirror_mode": {
    "name": "ipython",
    "version": 3
   },
   "file_extension": ".py",
   "mimetype": "text/x-python",
   "name": "python",
   "nbconvert_exporter": "python",
   "pygments_lexer": "ipython3",
   "version": "3.10.4"
  },
  "vscode": {
   "interpreter": {
    "hash": "947aaa753c19e897d3e18e2dd78481e7588bf3ea48be8d5de7a0d33111fabf15"
   }
  }
 },
 "nbformat": 4,
 "nbformat_minor": 2
}
