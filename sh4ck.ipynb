{
 "cells": [
  {
   "cell_type": "markdown",
   "metadata": {},
   "source": [
    "# 0. Importing Necessary Libraries"
   ]
  },
  {
   "cell_type": "code",
   "execution_count": 74,
   "metadata": {},
   "outputs": [],
   "source": [
    "# data analysis and modelling\n",
    "import numpy as np\n",
    "import pandas as pd\n",
    "from pandarallel import pandarallel # for parallel computations with pandas\n",
    "from sklearn.preprocessing import StandardScaler\n",
    "## Commonly used models in fraud detection\n",
    "from sklearn.tree import DecisionTreeClassifier\n",
    "from sklearn.linear_model import LogisticRegression\n",
    "from xgboost import XGBClassifier\n",
    "## assessment tools\n",
    "from sklearn.metrics import RocCurveDisplay\n",
    "\n",
    "# utilities\n",
    "import time\n",
    "from datetime import datetime, timedelta\n",
    "import random\n",
    "import os\n",
    "import math\n",
    "\n",
    "# plotting\n",
    "%matplotlib inline\n",
    "import matplotlib.pyplot as plt\n",
    "import seaborn as sns\n",
    "sns.set_theme(style='darkgrid', rc={'axes.facecolor': '0.9', 'figure.figsize':(12,6)})"
   ]
  },
  {
   "cell_type": "markdown",
   "metadata": {},
   "source": [
    "# 1. Transaction Data Simulator"
   ]
  },
  {
   "cell_type": "markdown",
   "metadata": {},
   "source": [
    "For confidentiality reasons, it is hard to find data related to fraud detection problems, despite its importance. Therefore, I will use a transaction data simulator to generate data for this project. Please refer to the [recent book about ML for fraud detection](https://fraud-detection-handbook.github.io/fraud-detection-handbook/Foreword.html) that introduces the simulator for more details. In the following, I will briefly explain the main ideas behind the transactions data generating process."
   ]
  },
  {
   "cell_type": "markdown",
   "metadata": {},
   "source": [
    "The following table describes the features that will be present in each transaction."
   ]
  },
  {
   "cell_type": "markdown",
   "metadata": {},
   "source": [
    "| Transaction Feature | Description |\n",
    "|:-------------------:|:-----------:|\n",
    "|TRANSACTION_ID | Unique identifier for the transaction.|\n",
    "|TX_DATETIME | Date and time of the transaction. |\n",
    "|CUSTOMER_ID | Unique identifier of the customer who made the transaction. |\n",
    "|TERMINAL_ID | Unique identifier of the terminal from which the transaction was made. |\n",
    "|TX_AMOUNT | The amount of the transaction. |\n",
    "|TX_FRAUD | Indicator variable for frauds (0 - Legitimate; 1 - Fraud).|\n",
    "\n"
   ]
  },
  {
   "cell_type": "markdown",
   "metadata": {},
   "source": [
    "The simulation process will have five main steps:"
   ]
  },
  {
   "cell_type": "markdown",
   "metadata": {},
   "source": [
    "1. Generation of customers profiles: each customer has different spending habits based on individual properties.\n",
    "\n",
    "2. Generation of terminal profiles: defines the geographical location of the terminal.\n",
    "\n",
    "3. Association of customer profiles to terminals: assumes that customers can only make transactions in terminals within a radius *r* of their geographical locations. Adds a feature 'list_terminals' to each customer profile, containing a set of terminals that the customer can use.\n",
    "\n",
    "4. Generation of transactions: generates transactions by the customer profiles.\n",
    "\n",
    "5. Generation of fraud scenarios: uses three different approaches to label some transactions as fraudulent."
   ]
  },
  {
   "cell_type": "markdown",
   "metadata": {},
   "source": [
    "## 1.1. Customer profiles generation"
   ]
  },
  {
   "cell_type": "markdown",
   "metadata": {},
   "source": [
    "The customers will be modelled by the following attributes:"
   ]
  },
  {
   "cell_type": "markdown",
   "metadata": {},
   "source": [
    "- CUSTOMER_ID: unique identifier of the customer.\n",
    "\n",
    "- (x_customer, y_customer): pair of real coordinates in a 100 x 100 grid that defines the geographical location of the customer.\n",
    "\n",
    "- (mean_amount, std_amount): mean and standard deviation of the transaction amounts for the customer, assuming that the transaction amounts follow a normal distribution. The mean_amount will be drawn from a uniform distribution (5,100) and the std_amount will be set as the mean_amount divided by two.\n",
    "\n",
    "- mean_nb_tx_per_day: The average number of transactions per day for the customer, assuming that the number of transactions per day follows a Poisson distribution. This number will be drawn from a uniform distribution (0,4)."
   ]
  },
  {
   "cell_type": "code",
   "execution_count": null,
   "metadata": {},
   "outputs": [],
   "source": [
    "def generate_customer_profiles_table(n_customers, random_state=42):\n",
    "    \"\"\"\n",
    "    Generates a table of customer profiles.\n",
    "    \n",
    "    Each customer profile consists of the folowing properties:\n",
    "    * CUSTOMER_ID: unique identifier of the customer.\n",
    "    * (x_customer, y_customer): pair of real coordinates in a 100 x 100 grid that defines the geographical location\n",
    "    of the customer.\n",
    "    * (mean_amount, std_amount): mean and standard deviation of the transaction amounts for the customer, assuming\n",
    "    that the transaction amounts follow a normal distribution. The mean_amount will be drawn from a uniform\n",
    "    distribution (5,100) and the std_amount will be set as the mean_amount divided by two.\n",
    "    * mean_nb_tx_per_day: The average number of transactions per day for the customer, assuming that the number of\n",
    "    transactions per day follows a Poisson distribution. This number will be drawn from a uniform distribution (0,4).\n",
    "    \n",
    "    Parameters\n",
    "    ----------\n",
    "    n_customers: int\n",
    "        Number of customers for which to generate a profile\n",
    "    random_state: int\n",
    "        Random state for reproducibility of the results.\n",
    "    \n",
    "    Returns\n",
    "    -------\n",
    "    customer_profiles_table: pandas.DataFrame\n",
    "        Table containing the properties of each customer.\n",
    "        \n",
    "    \"\"\"\n",
    "    # Setting up\n",
    "    np.random.seed(random_state)\n",
    "    MAX_COORDINATE = 100\n",
    "    MIN_MEAN_AMOUNT = 5\n",
    "    MAX_MEAN_AMOUNT = 100\n",
    "    MAX_MEAN_NB_TX_PER_DAY = 4\n",
    "    \n",
    "    # Generate customer profiles\n",
    "    customers_properties = []\n",
    "    for customer_id in range(n_customers):\n",
    "        x_customer = np.random.uniform(0, MAX_COORDINATE)\n",
    "        y_customer = np.random.uniform(0, MAX_COORDINATE)\n",
    "        mean_amount = np.random.uniform(MIN_MEAN_AMOUNT, MAX_MEAN_AMOUNT)\n",
    "        std_amount = mean_amount / 2\n",
    "        mean_nb_tx_per_day = np.random.uniform(0, MAX_MEAN_NB_TX_PER_DAY)\n",
    "        customers_properties.append([\n",
    "            customer_id,\n",
    "            x_customer, y_customer,\n",
    "            mean_amount, std_amount,\n",
    "            mean_nb_tx_per_day\n",
    "        ])\n",
    "    customer_profiles_table = pd.DataFrame(customers_properties, columns=['CUSTOMER_ID',\n",
    "                                                                         'x_customer', 'y_customer',\n",
    "                                                                         'mean_amount', 'std_amount',\n",
    "                                                                         'mean_nb_tx_per_day'])\n",
    "    return customer_profiles_table "
   ]
  },
  {
   "cell_type": "markdown",
   "metadata": {},
   "source": [
    "## 1.2. Terminal profiles generation"
   ]
  },
  {
   "cell_type": "markdown",
   "metadata": {},
   "source": [
    "The terminals will be modelled by the following attributes:"
   ]
  },
  {
   "cell_type": "markdown",
   "metadata": {},
   "source": [
    "- TERMINAL_ID: unique identifier of the terminal.\n",
    "\n",
    "- (x_terminal, y_terminal): pair of real coordinates in a 100 x 100 grid that defines the geographical location of the temrinal."
   ]
  },
  {
   "cell_type": "code",
   "execution_count": null,
   "metadata": {},
   "outputs": [],
   "source": [
    "def generate_terminal_profiles_table(n_terminals, random_state=42):\n",
    "    \"\"\"\n",
    "    Generates a table of terminal profiles.\n",
    "    \n",
    "    Each terminal profile consists of the folowing properties:\n",
    "    * TERMINAL_ID: unique identifier of the terminal.\n",
    "    * (x_temrinal, y_temrinal): pair of real coordinates in a 100 x 100 grid that defines the geographical location\n",
    "    of the terminal.\n",
    "    \n",
    "    Parameters\n",
    "    ----------\n",
    "    n_terminals: int\n",
    "        Number of terminals for which to generate a profile\n",
    "    random_state: int\n",
    "        Random state for reproducibility of the results.\n",
    "    \n",
    "    Returns\n",
    "    -------\n",
    "    terminal_profiles_table: pandas.DataFrame\n",
    "        Table containing the properties of each terminal.\n",
    "        \n",
    "    \"\"\"\n",
    "    # Setting up\n",
    "    np.random.seed(random_state)\n",
    "    MAX_COORDINATE = 100\n",
    "\n",
    "    # Generate terminal profiles\n",
    "    terminals_properties = []\n",
    "    for terminal_id in range(n_terminals):\n",
    "        x_terminal = np.random.uniform(0, MAX_COORDINATE)\n",
    "        y_terminal = np.random.uniform(0, MAX_COORDINATE)\n",
    "        terminals_properties.append([\n",
    "            terminal_id,\n",
    "            x_terminal, y_terminal,\n",
    "        ])\n",
    "    terminal_profiles_table = pd.DataFrame(terminals_properties, columns=['TERMINAL_ID',\n",
    "                                                                         'x_terminal', 'y_terminal',\n",
    "                                                                         ])\n",
    "    return terminal_profiles_table "
   ]
  },
  {
   "cell_type": "markdown",
   "metadata": {},
   "source": [
    "## 1.3. Association of customer profiles to terminals"
   ]
  },
  {
   "cell_type": "code",
   "execution_count": null,
   "metadata": {},
   "outputs": [],
   "source": [
    "def get_list_terminals_within_radius(customer_profile, x_y_terminals, r):\n",
    "    \"\"\"\n",
    "    Generates the list of all terminals within a radius 'r' of the customer.\n",
    "    \n",
    "    The simulation assumes that customers can only make transactions in terminals within a radius r of their\n",
    "    geographical locations, which adds a feature 'list_terminals' to each customer profile, containing a set of\n",
    "    terminals that the customer can use.\n",
    "    \n",
    "    Parameters\n",
    "    ----------\n",
    "    customer_profile: pandas.Series\n",
    "        The profile of a customer (a row from customer_profiles_table).\n",
    "    x_y_terminals: numpy.ndarray\n",
    "        An array that contains the geographical locations of all terminals.\n",
    "    r: float\n",
    "        Radius around the customer location to determine terminal availability.\n",
    "    \n",
    "    Returns\n",
    "    -------\n",
    "    list_terminals: list\n",
    "        List of the IDs of the terminals available to the customer.\n",
    "        \n",
    "    \"\"\"\n",
    "    # Location of the customer\n",
    "    x_y_customer = customer_profile[['x_customer', 'y_customer']].values.astype(float)\n",
    "    \n",
    "    # Squared difference in coordinates between customer and terminal locations\n",
    "    squared_diff_x_y = np.square(x_y_customer - x_y_terminals)\n",
    "    \n",
    "    # Sum along rows and compute sqrt to get distance\n",
    "    dist_x_y = np.sqrt(np.sum(squared_diff_x_y, axis=1))\n",
    "    \n",
    "    # Get the indices of terminals which are at a distance less than r\n",
    "    list_terminals = list(np.where(dist_x_y < r)[0])\n",
    "\n",
    "    return list_terminals"
   ]
  },
  {
   "cell_type": "markdown",
   "metadata": {},
   "source": [
    "## 1.4. Generation of transactions"
   ]
  },
  {
   "cell_type": "markdown",
   "metadata": {},
   "source": [
    "The customers' properties regulate transaction features such as frequency and typical amounts. Besides this, the simulations will try to reflect that most transactions occur during the day. Therefore, the transaction times, in seconds along a day, will follow a normal distribution centered around noon with an std of 20000 seconds. "
   ]
  },
  {
   "cell_type": "code",
   "execution_count": null,
   "metadata": {},
   "outputs": [],
   "source": [
    "def generate_transactions_table(customer_profile, start_date='2022-01-01', nb_days=200):\n",
    "    \"\"\"\n",
    "    Generates a table of unlabeled transactions by a customer profile.\n",
    "    \n",
    "    The customer's properties regulate transaction features such as frequency and typical amounts. The transaction\n",
    "    times, in seconds along a day, will follow a normal distribution centered around noon with an std of 20000 \n",
    "    seconds. \n",
    "    \n",
    "    Parameters\n",
    "    ----------\n",
    "    customer_profile: pandas.Series\n",
    "        The profile of a customer (a row from customer_profiles_table).\n",
    "    start_date: str\n",
    "        The date of the first transaction in the format \"YYYY-MM-DD\".\n",
    "    nb_days: int\n",
    "        The number of days to generate transactions.\n",
    "        \n",
    "    Returns\n",
    "    -------\n",
    "    customer_transactions: pandas.DataFrame\n",
    "        Table with transactions made by the customer over the specified period.\n",
    "\n",
    "    \"\"\"\n",
    "    # Setting up\n",
    "    customer_transactions = []\n",
    "    random.seed(int(customer_profile.CUSTOMER_ID))\n",
    "    np.random.seed(int(customer_profile.CUSTOMER_ID))\n",
    "    TOTAL_SECONDS_DAY = 86400\n",
    "    MEAN_TX_TIME = TOTAL_SECONDS_DAY / 2 # corresponding to noon\n",
    "    STD_TX_TIME = 20000\n",
    "    \n",
    "    \n",
    "    for day in range(nb_days):\n",
    "        # number of transactions for this day\n",
    "        nb_tx = np.random.poisson(customer_profile.mean_nb_tx_per_day)\n",
    "        \n",
    "        # if customer did some transactions, generate them\n",
    "        if nb_tx > 0: \n",
    "            for tx in range(nb_tx):\n",
    "                # time of the transaction, in seconds of that day.\n",
    "                tx_time = int(np.random.normal(MEAN_TX_TIME, STD_TX_TIME))\n",
    "                # if transacton time is in the (0, TOTAL_SECONDS_DAY) interval, accept it\n",
    "                if 0 < tx_time and tx_time < TOTAL_SECONDS_DAY:\n",
    "                    amount = np.random.normal(customer_profile.mean_amount, customer_profile.std_amount)\n",
    "                    # if amount is negative, draw from a uniform disribution\n",
    "                    if amount < 0:\n",
    "                        amount = np.random.uniform(0, customer_profile.mean_amount * 2)\n",
    "                    else:\n",
    "                        pass\n",
    "                    amount = np.round(amount, decimals=2)\n",
    "                    # verify terminal availability\n",
    "                    if len(customer_profile.list_terminals) > 0:\n",
    "                        terminal_id = random.choice(customer_profile.list_terminals)\n",
    "                        customer_transactions.append([\n",
    "                            tx_time + day * TOTAL_SECONDS_DAY, day,\n",
    "                            customer_profile.CUSTOMER_ID,\n",
    "                            terminal_id, amount\n",
    "                        ])\n",
    "                    else:\n",
    "                        continue\n",
    "                else: \n",
    "                    continue\n",
    "        else:\n",
    "            continue\n",
    "    customer_transactions = pd.DataFrame(customer_transactions, columns=[\n",
    "        'TX_TIME_SECONDS', 'TX_TIME_DAYS', 'CUSTOMER_ID', 'TERMINAL_ID', 'TX_AMOUNT', \n",
    "    ])\n",
    "    \n",
    "    if len(customer_transactions) > 0:\n",
    "        customer_transactions['TX_DATETIME'] = pd.to_datetime(customer_transactions['TX_TIME_SECONDS'], \n",
    "                                                             unit='s',\n",
    "                                                             origin=start_date)\n",
    "        customer_transactions = customer_transactions[[\n",
    "            'TX_DATETIME', 'CUSTOMER_ID', 'TERMINAL_ID', 'TX_AMOUNT', 'TX_TIME_SECONDS', 'TX_TIME_DAYS'\n",
    "        ]]\n",
    "    else:\n",
    "        pass\n",
    "    \n",
    "    return customer_transactions"
   ]
  },
  {
   "cell_type": "markdown",
   "metadata": {},
   "source": [
    "At this point, it is possible to generate a dataset of unlabeled transactions."
   ]
  },
  {
   "cell_type": "code",
   "execution_count": null,
   "metadata": {},
   "outputs": [],
   "source": [
    "def generate_dataset(n_customers=5000, n_terminals=10000, nb_days=200, start_date='2022-01-01', r=5):\n",
    "    '''\n",
    "    Generates an unlabeled dataset of transactions and displays relevant timing information.\n",
    "    \n",
    "    Each unlabeled transaction has the following features:\n",
    "    * TRANSACTION_ID: unique identifier for the transaction.\n",
    "    * TX_DATETIME: date and time of the transaction.\n",
    "    * CUSTOMER_ID: the unique identifier of the customer who made the transaction. \n",
    "    * TERMINAL_ID: the unique identifier of the terminal associated with the transaction. \n",
    "    * TX_AMOUNT: the amount of the transaction.\n",
    "    * TX_SECONDS: the number of elapsed seconds since the date of the first recorded transaction.\n",
    "    * TX_DAYS: the number of elapsed days since the date of the first recorded transaction.\n",
    "\n",
    "    \n",
    "    Parameters\n",
    "    ----------\n",
    "    n_customers: int\n",
    "        The number of customers of the institution.\n",
    "    n_terminals: int\n",
    "        The number of terminals with support of the institution.\n",
    "    nb_days: int\n",
    "        The number of days to generate transactions.\n",
    "    start_date: str\n",
    "        The date of the first transaction in the format \"YYYY-MM-DD\".\n",
    "    r: float\n",
    "        The radius (distance) 'r' determines the terminals available to each customer.\n",
    "        \n",
    "    Returns\n",
    "    -------\n",
    "    customer_profiles_table: pandas.DataFrame\n",
    "        Table with the properties of each customer.\n",
    "    terminal_profiles_table: pandas.DataFrame\n",
    "        Table with the properties of each terminal.\n",
    "    transactions_df: pandas.DataFrame\n",
    "        Table with all transactions of the simulation.\n",
    "    \n",
    "    '''\n",
    "    # set up pandarallel to enable parallel_apply pandas methods\n",
    "    pandarallel.initialize(use_memory_fs=False)\n",
    "\n",
    "    # Generate customer profiles\n",
    "    start_time = time.time()\n",
    "    customer_profiles_table = generate_customer_profiles_table(n_customers)\n",
    "    print(f'Time to generate customer profiles table: {time.time() - start_time:.2f}s.')\n",
    "    \n",
    "    # Generate terminal profiles\n",
    "    start_time = time.time()\n",
    "    terminal_profiles_table = generate_terminal_profiles_table(n_terminals)\n",
    "    print(f'Time to generate terminal profiles table: {time.time() - start_time:.2f}s.')\n",
    "    \n",
    "    # Associate terminals to customers\n",
    "    start_time = time.time()\n",
    "    x_y_terminals = terminal_profiles_table[['x_terminal', 'y_terminal']].values.astype(float)\n",
    "    customer_profiles_table['list_terminals'] = customer_profiles_table.parallel_apply(\n",
    "        lambda x: get_list_terminals_within_radius(x, x_y_terminals, r), axis=1\n",
    "    )\n",
    "    print(f'Time to associate terminals to customers: {time.time() - start_time:.2f}s.')\n",
    "    \n",
    "    \n",
    "    # Generate transactions\n",
    "    start_time = time.time()\n",
    "    transactions_df = customer_profiles_table.groupby('CUSTOMER_ID').parallel_apply(\n",
    "        lambda x: generate_transactions_table(x.iloc[0], start_date, nb_days),\n",
    "    ).reset_index(drop=True)\n",
    "    print(f'Time to generate transactions: {time.time() - start_time:.2f}s.')\n",
    "    \n",
    "    # Sort transactions chronologically\n",
    "    transactions_df = transactions_df.sort_values('TX_DATETIME')\n",
    "    \n",
    "    # Reset indexes\n",
    "    transactions_df.reset_index(inplace=True, drop=True)\n",
    "    \n",
    "    # TRANSACTION_ID are the dataframe indices, startng from 0\n",
    "    transactions_df.reset_index(inplace=True)\n",
    "    transactions_df.rename(columns={'index':'TRANSACTION_ID'}, inplace=True)\n",
    "    \n",
    "    return (customer_profiles_table, terminal_profiles_table, transactions_df)"
   ]
  },
  {
   "cell_type": "code",
   "execution_count": null,
   "metadata": {},
   "outputs": [],
   "source": [
    "customer_profiles_table, terminal_profiles_table, transactions_df = generate_dataset()"
   ]
  },
  {
   "cell_type": "markdown",
   "metadata": {},
   "source": [
    "## 1.5. Fraud scenarios generation"
   ]
  },
  {
   "cell_type": "markdown",
   "metadata": {},
   "source": [
    "Finally, the simulation adds fraud labels to the transactions by the following scenarios:"
   ]
  },
  {
   "cell_type": "markdown",
   "metadata": {},
   "source": [
    "1. Any transaction of more than 220 is fraud. This scenario intends to validate the implementation of any fraud detection system, as any system should be able to discern such an obvious pattern.\n",
    "\n",
    "2. Every day, randomly select two terminals and assign any transactions from these terminals as fraudulent for the next 28 days. This scenario simulates known criminal tactics such as phishing.\n",
    "\n",
    "3. Every day, randomly select three customers. In the next 14 days, select 1/3 of their transactions, multiply the amounts by five and mark them as fraudulent. This scenario simulates customer credentials leakage. The customer continues to make transactions within his spending habits. Meanwhile, the fraudster tries to maximize his gains by making sporadic transactions of large amounts."
   ]
  },
  {
   "cell_type": "code",
   "execution_count": null,
   "metadata": {},
   "outputs": [],
   "source": [
    "def add_frauds(customer_profiles_table, terminal_profiles_table, transactions_df):\n",
    "    '''\n",
    "    Adds fraud labels to a dataset of transactions and displays relevant statistics.\n",
    "    \n",
    "    The labels follow three different fraud scenarios:\n",
    "    1 -> Any transaction of more than 220 is fraud. This scenario intends to validate the implementation of any fraud\n",
    "    detection system, as any system should be able to discern such an obvious pattern.\n",
    "    2 -> Every day, randomly select two terminals and assign any transactions from these terminals as fraudulent for\n",
    "    the next 28 days. This scenario simulates known criminal tactics such as phishing.\n",
    "    3 -> Every day, randomly select three customers. In the next 14 days, select 1/3 of their transactions, multiply \n",
    "    the amounts by five and mark them as fraudulent. This scenario simulates customer credentials leakage. The \n",
    "    customer continues to make transactions within his spending habits. Meanwhile, the fraudster tries to maximize \n",
    "    his gains by making sporadic transactions of large amounts.\n",
    "    \n",
    "    Parameters\n",
    "    ----------\n",
    "    customer_profiles_table: pandas.DataFrame\n",
    "        Table with the properties of each customer.\n",
    "    terminal_profiles_table: pandas.DataFrame\n",
    "        Table with the properties of each terminal.\n",
    "    transactions_df: pandas.DataFrame\n",
    "        Table with all transactions of the simulation.\n",
    "        \n",
    "    Returns\n",
    "    -------\n",
    "    labeled_transactions_df: pandas.DataFrame\n",
    "        Table of all transactions with the corresponding fraud labels and scenarios.\n",
    "    \n",
    "    '''\n",
    "    # Set up\n",
    "    labeled_transactions_df = transactions_df.copy()\n",
    "    AMOUNT_THRESHOLD = 220\n",
    "    COMPROMISED_TERMINALS_PER_DAY = 2\n",
    "    COMPROMISE_PERIOD_DAYS = 28\n",
    "    LEAKED_CREDENTIALS_PER_DAY = 3\n",
    "    LEAKAGE_PERIOD_DAYS = 14\n",
    "    FRAUD_FRACTION = 1 / 3\n",
    "    FRAUD_AMOUNT_FACTOR = 5\n",
    "    \n",
    "    \n",
    "    # By default, all transactions are genuine\n",
    "    labeled_transactions_df['TX_FRAUD'] = 0\n",
    "    labeled_transactions_df['TX_FRAUD_SCENARIO'] = 0 #\n",
    "    \n",
    "    # Scenario 1\n",
    "    labeled_transactions_df.loc[labeled_transactions_df.TX_AMOUNT > AMOUNT_THRESHOLD, 'TX_FRAUD'] = 1\n",
    "    labeled_transactions_df.loc[labeled_transactions_df.TX_AMOUNT > AMOUNT_THRESHOLD, 'TX_FRAUD_SCENARIO'] = 1\n",
    "    nb_frauds_scenario_1 = labeled_transactions_df.TX_FRAUD.sum()\n",
    "    print(f'Number of frauds from scenario 1: {nb_frauds_scenario_1}')\n",
    "    \n",
    "    # Scenario 2\n",
    "    for day in range(transactions_df.TX_TIME_DAYS.max()):\n",
    "        comprimised_terminals = terminal_profiles_table.TERMINAL_ID.sample(\n",
    "            n=COMPROMISED_TERMINALS_PER_DAY, random_state=day\n",
    "        )\n",
    "        compromised_transactions = transactions_df[\n",
    "            (transactions_df.TX_TIME_DAYS >= day) &\n",
    "            (transactions_df.TX_TIME_DAYS < day + COMPROMISE_PERIOD_DAYS) &\n",
    "            (transactions_df.TERMINAL_ID.isin(comprimised_terminals))\n",
    "        ]\n",
    "        labeled_transactions_df.loc[compromised_transactions.index, 'TX_FRAUD'] = 1\n",
    "        labeled_transactions_df.loc[compromised_transactions.index, 'TX_FRAUD_SCENARIO'] = 2\n",
    "    nb_frauds_scenario_2 = labeled_transactions_df.TX_FRAUD.sum() - nb_frauds_scenario_1\n",
    "    print(f'Number of frauds from scenario 2: {nb_frauds_scenario_2}')\n",
    "    \n",
    "    \n",
    "    # Scenario 3\n",
    "    for day in range(transactions_df.TX_TIME_DAYS.max()):\n",
    "        comprimised_customers = customer_profiles_table.CUSTOMER_ID.sample(\n",
    "            n=LEAKED_CREDENTIALS_PER_DAY, random_state=day\n",
    "        ).values\n",
    "        compromised_transactions = transactions_df[\n",
    "            (transactions_df.TX_TIME_DAYS >= day) &\n",
    "            (transactions_df.TX_TIME_DAYS < day + LEAKAGE_PERIOD_DAYS) &\n",
    "            (transactions_df.CUSTOMER_ID.isin(comprimised_customers))\n",
    "        ]\n",
    "        nb_compromised_transactions = len(compromised_transactions)\n",
    "        \n",
    "        # select 1/3 of transactions and make them fraudulent\n",
    "        random.seed(day)\n",
    "        index_frauds = random.sample(\n",
    "            list(compromised_transactions.index.values), k=int(nb_compromised_transactions * FRAUD_FRACTION)\n",
    "        )\n",
    "        labeled_transactions_df.loc[index_frauds, 'TX_AMOUNT'] *= FRAUD_AMOUNT_FACTOR\n",
    "        labeled_transactions_df.loc[index_frauds, 'TX_FRAUD'] = 1\n",
    "        labeled_transactions_df.loc[index_frauds, 'TX_FRAUD_SCENARIO'] = 3\n",
    "    nb_frauds_scenario_3 = labeled_transactions_df.TX_FRAUD.sum() - nb_frauds_scenario_2 - nb_frauds_scenario_1\n",
    "    print(f'Number of frauds from scenario 3: {nb_frauds_scenario_3}')\n",
    "\n",
    "    return labeled_transactions_df"
   ]
  },
  {
   "cell_type": "code",
   "execution_count": null,
   "metadata": {},
   "outputs": [],
   "source": [
    "%time transactions_df = add_frauds(customer_profiles_table, terminal_profiles_table, transactions_df)"
   ]
  },
  {
   "cell_type": "markdown",
   "metadata": {},
   "source": [
    "## 1.6. Saving of dataset"
   ]
  },
  {
   "cell_type": "markdown",
   "metadata": {},
   "source": [
    "The dataset is saved in daily batches to allow further control when loading data from specific periods. The pickle format is chosen over CSV to speed up loading times."
   ]
  },
  {
   "cell_type": "code",
   "execution_count": null,
   "metadata": {},
   "outputs": [],
   "source": [
    "def save_to_files(dir_output, transactions_df, start_date):\n",
    "    '''\n",
    "    Saves a table of transactions to pickle files in daily batches.\n",
    "    \n",
    "    The pickle files are named 'YYYY-MM-DD.pkl' into the directory 'dir_output'. The 'start_date' defines the date\n",
    "    of the first transaction, and subsequent transactions are saved based on the number of seconds elapsed since\n",
    "    day one.\n",
    "    \n",
    "    Parameters\n",
    "    ----------\n",
    "    dir_output: str\n",
    "        A string containing the path of the directory that will store the files.\n",
    "    transactions_df: pandas.DataFrame\n",
    "        A table containing the transactions to save.\n",
    "    start_date: str\n",
    "        A string containing the date assigned to the first transaction in the table, in the form 'YYYY-MM-DD'.\n",
    "    \n",
    "    Returns\n",
    "    -------\n",
    "        None\n",
    "    \n",
    "    '''\n",
    "    if not os.path.exists(dir_output):\n",
    "        os.makedirs(dir_output)\n",
    "    else:\n",
    "        pass\n",
    "    start_date = datetime.strptime(start_date, '%Y-%m-%d')\n",
    "    for day in range(transactions_df.TX_TIME_DAYS.max() + 1):\n",
    "        transactions_day = transactions_df[transactions_df.TX_TIME_DAYS == day].sort_values('TX_TIME_SECONDS')\n",
    "        date = start_date + timedelta(days=day)\n",
    "        filename_output = date.strftime('%Y-%m-%d') + '.pkl'\n",
    "        # Protocol = 4 required by Google Colab\n",
    "        transactions_day.to_pickle(DIR_OUTPUT + filename_output, protocol=4)"
   ]
  },
  {
   "cell_type": "code",
   "execution_count": null,
   "metadata": {},
   "outputs": [],
   "source": [
    "# Save simulated transactions\n",
    "save_to_files('./simulated_data_raw/', transactions_df, '2022-01-01')"
   ]
  },
  {
   "cell_type": "markdown",
   "metadata": {},
   "source": [
    "# 2. Exploratory Data Analysis and Feature Engineering"
   ]
  },
  {
   "cell_type": "markdown",
   "metadata": {},
   "source": [
    "## 2.1. Loading the data"
   ]
  },
  {
   "cell_type": "code",
   "execution_count": 2,
   "metadata": {},
   "outputs": [],
   "source": [
    "def read_from_files(dir_input, begin_date, end_date):\n",
    "    '''\n",
    "    Loads a set of transaction files into a single DataFrame and orders it by transaction time.\n",
    "    \n",
    "    The transaction files are pickle files in 'dir_input', with the file names in the format 'YYYY-MM-DD.pkl'. This \n",
    "    way, the parameters begin_date and end_date control which files are loaded.\n",
    "    \n",
    "    Parameters\n",
    "    ----------\n",
    "    dir_input: str\n",
    "        A string containing the path of the directory that stores the files.\n",
    "    begin_date: str\n",
    "        A string containing the first day of transactions to load, in the form 'YYYY-MM-DD'.\n",
    "    end_date: str\n",
    "        A string containing the last day of transactions to load, in the form 'YYYY-MM-DD'.\n",
    "        \n",
    "    Returns\n",
    "    -------\n",
    "    transactions_df: pandas.DataFrame\n",
    "        A table with all requested transactions.\n",
    "    \n",
    "    '''\n",
    "    files = [os.path.join(dir_input, file) \n",
    "             for file in os.listdir(dir_input) if file >= begin_date+'.pkl' and file <= end_date+'.pkl']\n",
    "    data_frames = []\n",
    "    for file in files:\n",
    "        data_frame = pd.read_pickle(file)\n",
    "        data_frames.append(data_frame)\n",
    "        del data_frame\n",
    "    transactions_df = pd.concat(data_frames)\n",
    "    transactions_df = transactions_df.sort_values('TX_DATETIME')\n",
    "    transactions_df.reset_index(drop=True,inplace=True)\n",
    "    return transactions_df"
   ]
  },
  {
   "cell_type": "code",
   "execution_count": 3,
   "metadata": {},
   "outputs": [],
   "source": [
    "# loading transactions from the first semester of 2022\n",
    "transactions_df = read_from_files('./simulated_data_raw/', '2022-01-01', '2022-06-30')"
   ]
  },
  {
   "cell_type": "markdown",
   "metadata": {},
   "source": [
    "## 2.2. Exploring the data"
   ]
  },
  {
   "cell_type": "code",
   "execution_count": 4,
   "metadata": {},
   "outputs": [
    {
     "data": {
      "text/plain": [
       "(1758005, 9)"
      ]
     },
     "execution_count": 4,
     "metadata": {},
     "output_type": "execute_result"
    }
   ],
   "source": [
    "# visualize number of transactions and features\n",
    "transactions_df.shape"
   ]
  },
  {
   "cell_type": "code",
   "execution_count": 5,
   "metadata": {},
   "outputs": [
    {
     "data": {
      "text/html": [
       "<div>\n",
       "<style scoped>\n",
       "    .dataframe tbody tr th:only-of-type {\n",
       "        vertical-align: middle;\n",
       "    }\n",
       "\n",
       "    .dataframe tbody tr th {\n",
       "        vertical-align: top;\n",
       "    }\n",
       "\n",
       "    .dataframe thead th {\n",
       "        text-align: right;\n",
       "    }\n",
       "</style>\n",
       "<table border=\"1\" class=\"dataframe\">\n",
       "  <thead>\n",
       "    <tr style=\"text-align: right;\">\n",
       "      <th></th>\n",
       "      <th>TRANSACTION_ID</th>\n",
       "      <th>TX_DATETIME</th>\n",
       "      <th>CUSTOMER_ID</th>\n",
       "      <th>TERMINAL_ID</th>\n",
       "      <th>TX_AMOUNT</th>\n",
       "      <th>TX_TIME_SECONDS</th>\n",
       "      <th>TX_TIME_DAYS</th>\n",
       "      <th>TX_FRAUD</th>\n",
       "      <th>TX_FRAUD_SCENARIO</th>\n",
       "    </tr>\n",
       "  </thead>\n",
       "  <tbody>\n",
       "    <tr>\n",
       "      <th>0</th>\n",
       "      <td>0</td>\n",
       "      <td>2022-01-01 00:00:31</td>\n",
       "      <td>1829</td>\n",
       "      <td>4083</td>\n",
       "      <td>22.35</td>\n",
       "      <td>31</td>\n",
       "      <td>0</td>\n",
       "      <td>0</td>\n",
       "      <td>0</td>\n",
       "    </tr>\n",
       "    <tr>\n",
       "      <th>1</th>\n",
       "      <td>1</td>\n",
       "      <td>2022-01-01 00:01:59</td>\n",
       "      <td>157</td>\n",
       "      <td>3553</td>\n",
       "      <td>9.53</td>\n",
       "      <td>119</td>\n",
       "      <td>0</td>\n",
       "      <td>0</td>\n",
       "      <td>0</td>\n",
       "    </tr>\n",
       "    <tr>\n",
       "      <th>2</th>\n",
       "      <td>2</td>\n",
       "      <td>2022-01-01 00:02:29</td>\n",
       "      <td>834</td>\n",
       "      <td>4124</td>\n",
       "      <td>82.26</td>\n",
       "      <td>149</td>\n",
       "      <td>0</td>\n",
       "      <td>0</td>\n",
       "      <td>0</td>\n",
       "    </tr>\n",
       "    <tr>\n",
       "      <th>3</th>\n",
       "      <td>3</td>\n",
       "      <td>2022-01-01 00:04:47</td>\n",
       "      <td>2845</td>\n",
       "      <td>6957</td>\n",
       "      <td>25.29</td>\n",
       "      <td>287</td>\n",
       "      <td>0</td>\n",
       "      <td>0</td>\n",
       "      <td>0</td>\n",
       "    </tr>\n",
       "    <tr>\n",
       "      <th>4</th>\n",
       "      <td>4</td>\n",
       "      <td>2022-01-01 00:07:04</td>\n",
       "      <td>1565</td>\n",
       "      <td>8020</td>\n",
       "      <td>31.69</td>\n",
       "      <td>424</td>\n",
       "      <td>0</td>\n",
       "      <td>0</td>\n",
       "      <td>0</td>\n",
       "    </tr>\n",
       "  </tbody>\n",
       "</table>\n",
       "</div>"
      ],
      "text/plain": [
       "   TRANSACTION_ID         TX_DATETIME CUSTOMER_ID TERMINAL_ID  TX_AMOUNT  \\\n",
       "0               0 2022-01-01 00:00:31        1829        4083      22.35   \n",
       "1               1 2022-01-01 00:01:59         157        3553       9.53   \n",
       "2               2 2022-01-01 00:02:29         834        4124      82.26   \n",
       "3               3 2022-01-01 00:04:47        2845        6957      25.29   \n",
       "4               4 2022-01-01 00:07:04        1565        8020      31.69   \n",
       "\n",
       "  TX_TIME_SECONDS TX_TIME_DAYS  TX_FRAUD  TX_FRAUD_SCENARIO  \n",
       "0              31            0         0                  0  \n",
       "1             119            0         0                  0  \n",
       "2             149            0         0                  0  \n",
       "3             287            0         0                  0  \n",
       "4             424            0         0                  0  "
      ]
     },
     "execution_count": 5,
     "metadata": {},
     "output_type": "execute_result"
    }
   ],
   "source": [
    "# inspecting a few instances\n",
    "transactions_df.head()"
   ]
  },
  {
   "cell_type": "code",
   "execution_count": 6,
   "metadata": {
    "scrolled": true
   },
   "outputs": [
    {
     "name": "stdout",
     "output_type": "stream",
     "text": [
      "<class 'pandas.core.frame.DataFrame'>\n",
      "RangeIndex: 1758005 entries, 0 to 1758004\n",
      "Data columns (total 9 columns):\n",
      " #   Column             Dtype         \n",
      "---  ------             -----         \n",
      " 0   TRANSACTION_ID     int64         \n",
      " 1   TX_DATETIME        datetime64[ns]\n",
      " 2   CUSTOMER_ID        object        \n",
      " 3   TERMINAL_ID        object        \n",
      " 4   TX_AMOUNT          float64       \n",
      " 5   TX_TIME_SECONDS    object        \n",
      " 6   TX_TIME_DAYS       object        \n",
      " 7   TX_FRAUD           int64         \n",
      " 8   TX_FRAUD_SCENARIO  int64         \n",
      "dtypes: datetime64[ns](1), float64(1), int64(3), object(4)\n",
      "memory usage: 120.7+ MB\n"
     ]
    }
   ],
   "source": [
    "# getting general information about the data\n",
    "transactions_df.info()"
   ]
  },
  {
   "cell_type": "code",
   "execution_count": 7,
   "metadata": {},
   "outputs": [
    {
     "data": {
      "text/plain": [
       "TRANSACTION_ID       0\n",
       "TX_DATETIME          0\n",
       "CUSTOMER_ID          0\n",
       "TERMINAL_ID          0\n",
       "TX_AMOUNT            0\n",
       "TX_TIME_SECONDS      0\n",
       "TX_TIME_DAYS         0\n",
       "TX_FRAUD             0\n",
       "TX_FRAUD_SCENARIO    0\n",
       "dtype: int64"
      ]
     },
     "execution_count": 7,
     "metadata": {},
     "output_type": "execute_result"
    }
   ],
   "source": [
    "# checking for missing values\n",
    "transactions_df.isnull().sum()"
   ]
  },
  {
   "cell_type": "code",
   "execution_count": 8,
   "metadata": {},
   "outputs": [],
   "source": [
    "# convert data to appropriate types\n",
    "transactions_df.TRANSACTION_ID = transactions_df.TRANSACTION_ID.astype(str)\n",
    "transactions_df.TX_TIME_DAYS = transactions_df.TX_TIME_DAYS.astype(int)\n",
    "transactions_df.TX_TIME_SECONDS = transactions_df.TX_TIME_SECONDS.astype(int)"
   ]
  },
  {
   "cell_type": "code",
   "execution_count": 9,
   "metadata": {},
   "outputs": [
    {
     "data": {
      "text/plain": [
       "0    1743230\n",
       "1      14775\n",
       "Name: TX_FRAUD, dtype: int64"
      ]
     },
     "execution_count": 9,
     "metadata": {},
     "output_type": "execute_result"
    }
   ],
   "source": [
    "# exploring distribution of the response variable: 'tx_fraud'\n",
    "transactions_df.TX_FRAUD.value_counts()"
   ]
  },
  {
   "cell_type": "code",
   "execution_count": 10,
   "metadata": {},
   "outputs": [
    {
     "data": {
      "image/png": "[encoded data removed]",
      "text/plain": [
       "<Figure size 864x432 with 1 Axes>"
      ]
     },
     "metadata": {},
     "output_type": "display_data"
    }
   ],
   "source": [
    "# visualize proportion of fraudulent transactions\n",
    "ax = sns.histplot(x='TX_FRAUD', data=transactions_df, stat='percent', discrete=True, shrink=0.8, )\n",
    "ax.bar_label(ax.containers[0])\n",
    "ax.set_xticks([0, 1])\n",
    "plt.title('Proportion of fraudulent transactions.')\n",
    "plt.show()"
   ]
  },
  {
   "cell_type": "code",
   "execution_count": 11,
   "metadata": {},
   "outputs": [
    {
     "data": {
      "image/png": "[encoded data removed]",
      "text/plain": [
       "<Figure size 864x432 with 1 Axes>"
      ]
     },
     "metadata": {},
     "output_type": "display_data"
    }
   ],
   "source": [
    "# visualize relation between transaction amounts and frauds\n",
    "ax = sns.histplot(x='TX_AMOUNT', hue='TX_FRAUD', data=transactions_df, stat='percent', bins=50, common_norm=False)\n",
    "ax.set_title('Transaction amount distribution between fraudulent and non-fraudulent transactions');"
   ]
  },
  {
   "cell_type": "markdown",
   "metadata": {},
   "source": [
    "At this stage of the EDA,  we can identify the fraud pattern associated with transactions above 200 monetary units."
   ]
  },
  {
   "cell_type": "code",
   "execution_count": 12,
   "metadata": {},
   "outputs": [
    {
     "data": {
      "image/png": "[encoded data removed]",
      "text/plain": [
       "<Figure size 864x432 with 1 Axes>"
      ]
     },
     "metadata": {},
     "output_type": "display_data"
    }
   ],
   "source": [
    "# visualize relationship between transaction times and frauds\n",
    "SECONDS_IN_A_DAY = 86400\n",
    "time_plot_df = transactions_df.loc[:, ['TX_TIME_SECONDS', 'TX_FRAUD']].copy() # aux df for this vizualization\n",
    "time_plot_df['TX_TIME_DAYS'] = time_plot_df.TX_TIME_SECONDS / SECONDS_IN_A_DAY\n",
    "ax = sns.histplot(x='TX_TIME_DAYS', hue='TX_FRAUD', data=time_plot_df, stat='percent', common_norm=False)\n",
    "ax.set_title('Transaction time distribution between fraudulent and non-fraudulent transactions');"
   ]
  },
  {
   "cell_type": "markdown",
   "metadata": {},
   "source": [
    "One can note periodic increases in fraudulent activity over the six months, consistent with known fraudster patterns like phishing and credential leakage. "
   ]
  },
  {
   "cell_type": "markdown",
   "metadata": {},
   "source": [
    "The following function facilitates future integration of the transactions data: "
   ]
  },
  {
   "cell_type": "code",
   "execution_count": 13,
   "metadata": {},
   "outputs": [],
   "source": [
    "def set_appropriate_dtypes(transactions_df):\n",
    "    '''\n",
    "    Set appropriate data types for the transactions data.\n",
    "    \n",
    "    This is for convenient use of fixed transactions data in an environment such as a notebook.\n",
    "    \n",
    "    Parameters\n",
    "    ----------\n",
    "    transactions_df: pandas.DataFrame\n",
    "        A table with transactions.\n",
    "        \n",
    "    Returns\n",
    "    -------\n",
    "    transactions_df_clean: pandas.DataFrame\n",
    "        A table of the original transactions with all features in appropriate data types.\n",
    "    \n",
    "    '''\n",
    "    #return variable\n",
    "    transactions_df_clean = transactions_df.copy()\n",
    "    \n",
    "    transactions_df_clean.TRANSACTION_ID = transactions_df_clean.TRANSACTION_ID.astype(str)\n",
    "    transactions_df_clean.TX_TIME_DAYS = transactions_df_clean.TX_TIME_DAYS.astype(int)\n",
    "    transactions_df_clean.TX_TIME_SECONDS = transactions_df_clean.TX_TIME_SECONDS.astype(int)\n",
    "    \n",
    "    return transactions_df_clean"
   ]
  },
  {
   "cell_type": "markdown",
   "metadata": {},
   "source": [
    "## 2.3. Feature Engineering"
   ]
  },
  {
   "cell_type": "markdown",
   "metadata": {},
   "source": [
    "One of the most relevant stages of a data science project is feature engineering, where we leverage the potential information in the data with domain knowledge to maximize the business value generated by ML models.\n",
    "\n",
    "In the context of credit card fraud detection, experience shows that some determinant features to look for are:\n",
    "- Relevant periods: day or night, weekdays or weekends.\n",
    "- Customer spending habits: the typical amount and number of transactions of each customer.\n",
    "- Terminal risk: a measure of how many fraudulent transactions have occurred in each terminal.\n",
    "\n",
    "These points justify the introduciton of the following features:"
   ]
  },
  {
   "cell_type": "markdown",
   "metadata": {},
   "source": [
    "- TX_DURING_WEEKEND: characterizes whether a transaction occurs during weekends (1) or weekdays (0).\n",
    "- TX_DURING_NIGHT: characterizes whether a transaction occurs during the night. **In this context, the night is the period from 0 pm to 6 am**.\n",
    "- NB_TX_{n}DAY_WINDOW_CUST (n=1, 7, 30): the number of transactions of a customer in the last 1, 7 or 30 days.\n",
    "- AVG_AMOUNT_{n}DAY_WINDOW (n=1, 7, 30): the average transaction amount of a customer in the last 1, 7 or 30 days.\n",
    "- NB_TX_{n}DAY_WINDOW_TERM (n=1, 7, 30): the number of transactions on a terminal in the last n + d days, for n = 1, 7 or 30 and d = 7. The parameter d is called *delay*.\n",
    "- RISK_{n}DAY_WINDOW (n=1, 7, 30): the average number of frauds on a terminal in the last n+ d days, for n = 1, 7 or 30 days and d = 7."
   ]
  },
  {
   "cell_type": "markdown",
   "metadata": {},
   "source": [
    "The sizes of the time windows and the delay period are sensible values based on known fraud patterns. Later, they might become hyperparameters of an ML model and adjusted to specific needs, such as concept drift. \n",
    "\n",
    "The delay period accounts for the time difference between a fraud occurrence and its acknowledgment after an investigation or customer complaint."
   ]
  },
  {
   "cell_type": "markdown",
   "metadata": {},
   "source": [
    "The following functions facilitate the implementation of the above features:"
   ]
  },
  {
   "cell_type": "code",
   "execution_count": 14,
   "metadata": {},
   "outputs": [],
   "source": [
    "def add_customer_spending_behaviour_features(customer_transactions, windows_size_in_days=[1, 7, 30]):\n",
    "    '''\n",
    "    Adds the number of transactions and average amount over the given time windows.\n",
    "    \n",
    "    Computes the customer spending habits, such frequency and the average amount of transactions, from a table of \n",
    "    'customer_transactions' for each time window in the list 'windows_size_in_days'.\n",
    "    \n",
    "    Parameters\n",
    "    ----------\n",
    "    customer_transactions: pandas.DataFrame\n",
    "        A table with the transactions of a given customer.\n",
    "    windows_size_in_days: list\n",
    "        A list of positive integers with the sizes of the time windows.\n",
    "    \n",
    "    Returns\n",
    "    -------\n",
    "    customer_transactions_agg: pandas.DataFrame\n",
    "        A table with the customer transactions containing the computed aggregate features.\n",
    "    \n",
    "    '''\n",
    "    # First, order transactions chronologically and set it as the index, to allow the use of the rolling function.\n",
    "    customer_transactions_agg = customer_transactions.sort_values('TX_DATETIME').copy()\n",
    "    customer_transactions_agg.index = customer_transactions_agg.TX_DATETIME\n",
    "    \n",
    "    for window_size in windows_size_in_days:\n",
    "        # Compute the sum of the transaction amounts and the number of transactions for the given window size\n",
    "        SUM_AMOUNT_TX_WINDOW = customer_transactions_agg['TX_AMOUNT'].rolling(str(window_size) + 'd').sum()\n",
    "        NB_TX_WINDOW = customer_transactions_agg['TX_AMOUNT'].rolling(str(window_size) + 'd').count()\n",
    "    \n",
    "        # Compute the average transaction amount for the given window size\n",
    "        # NB_TX_WINDOW is always >0 since current transaction is always included\n",
    "        AVG_AMOUNT_TX_WINDOW = SUM_AMOUNT_TX_WINDOW / NB_TX_WINDOW\n",
    "    \n",
    "        # Save feature values\n",
    "        customer_transactions_agg['NB_TX_' + str(window_size) +'DAY_WINDOW_CUST'] = list(NB_TX_WINDOW)\n",
    "        customer_transactions_agg['AVG_AMOUNT_' + str(window_size) + 'DAY_WINDOW'] = list(AVG_AMOUNT_TX_WINDOW)\n",
    "    \n",
    "    # Reindex according to transaction IDs\n",
    "    customer_transactions_agg.index = customer_transactions_agg.TRANSACTION_ID\n",
    "        \n",
    "    return customer_transactions_agg"
   ]
  },
  {
   "cell_type": "code",
   "execution_count": 15,
   "metadata": {},
   "outputs": [],
   "source": [
    "def add_terminal_risk_profile(terminal_transactions, windows_size_in_days=[1, 7, 30], delay_period=7):\n",
    "    '''\n",
    "    Adds the number of transactions and risk factors over the given time windows.\n",
    "    \n",
    "    Computes the terminal risk characteristics, such as frequency and average number of frauds (risk), from a table\n",
    "    of 'terminal_transactions' for each time window in the list 'windows_size_in_days'. The delay period accounts \n",
    "    for the time difference between a fraud occurrence and its acknowledgment after an investigation or customer \n",
    "    complaint.\n",
    "    \n",
    "    Parameters\n",
    "    ----------\n",
    "    terminal_transactions: pandas.DataFrame\n",
    "        A table with the transactions on a given terminal.\n",
    "    windows_size_in_days: list\n",
    "        A list of positive integers with the sizes of the time windows.\n",
    "    delay_period: int\n",
    "        The days between the occurence and acknowledgment of fraudulent activity.\n",
    "    \n",
    "    Returns\n",
    "    -------\n",
    "    terminal_transactions_agg: pandas.DataFrame\n",
    "        A table with the terminal transactions containing the computed aggregate features.\n",
    "    \n",
    "    '''\n",
    "    # First, order transactions chronologically and set it as the index, to allow the use of the rolling function.\n",
    "    terminal_transactions_agg = terminal_transactions.sort_values('TX_DATETIME').copy()\n",
    "    terminal_transactions_agg.index = terminal_transactions_agg.TX_DATETIME\n",
    "    \n",
    "    # One is insterested in the number of frauds over a time window only, but one has to wait for the delay\n",
    "    # period, otherwise the fraud would still be unnoticed.\n",
    "    \n",
    "    # number of frauds in the delay period after each transaction.\n",
    "    NB_FRAUD_DELAY = terminal_transactions_agg['TX_FRAUD'].rolling(str(delay_period) + 'd').sum()\n",
    "    # number of transactions in the delay period after each transaction.\n",
    "    NB_TX_DELAY = terminal_transactions_agg['TX_FRAUD'].rolling(str(delay_period) + 'd').count()\n",
    "    \n",
    "    for window_size in windows_size_in_days:\n",
    "        # number of frauds in the delay period + window size after each transaction.\n",
    "        NB_FRAUD_DELAY_WINDOW = terminal_transactions_agg['TX_FRAUD'].rolling(str(delay_period+window_size) + 'd'\n",
    "                                                                           ).sum()\n",
    "        # number of transactions in the delay period + window size after each transaction.\n",
    "        NB_TX_DELAY_WINDOW = terminal_transactions_agg['TX_FRAUD'].rolling(str(delay_period + window_size) + 'd'\n",
    "                                                                          ).count()\n",
    "        NB_FRAUD_WINDOW = NB_FRAUD_DELAY_WINDOW - NB_FRAUD_DELAY\n",
    "        NB_TX_WINDOW = NB_TX_DELAY_WINDOW - NB_TX_DELAY\n",
    "        RISK_WINDOW = NB_FRAUD_WINDOW / NB_TX_WINDOW # proportion of frauds over the time window\n",
    "        \n",
    "        terminal_transactions_agg['NB_TX_' + str(window_size) + 'DAY_WINDOW_TERM'] = list(NB_TX_WINDOW)\n",
    "        terminal_transactions_agg['RISK_' + str(window_size) + 'DAY_WINDOW'] = list(RISK_WINDOW)\n",
    "        \n",
    "    terminal_transactions_agg.index = terminal_transactions_agg.TRANSACTION_ID\n",
    "    \n",
    "    # Replace NA values with 0 (all undefined risk scores where NB_TX_WINDOW is 0) \n",
    "    terminal_transactions_agg.fillna(0, inplace=True)\n",
    "    \n",
    "    return terminal_transactions_agg"
   ]
  },
  {
   "cell_type": "code",
   "execution_count": 16,
   "metadata": {},
   "outputs": [],
   "source": [
    "def credit_card_fraud_feature_engineering(transactions_df):\n",
    "    '''\n",
    "    Engineers relevant features to the problem of credit card fraud detection.\n",
    "    \n",
    "    Given a table of transactions, computes features associated with customer behavior and terminal risk.\n",
    "    \n",
    "    Parameters\n",
    "    ----------\n",
    "    transactions_df: pandas.DataFrame\n",
    "        A table with transactions.\n",
    "    \n",
    "    Returns\n",
    "    -------\n",
    "    transactions_df_eng: pandas.DataFrame\n",
    "        A table of the original transactions with the addition of customer behavior and terminal risk features. \n",
    "    \n",
    "    '''\n",
    "    # set up pandarallel to enable parallel_apply pandas methods\n",
    "    pandarallel.initialize(use_memory_fs=False)\n",
    "    \n",
    "    # return variable\n",
    "    transactions_df_eng = transactions_df.copy()\n",
    "    \n",
    "    # datetime transformations\n",
    "    transactions_df_eng['TX_DURING_WEEKEND'] = transactions_df.TX_DATETIME.parallel_apply(\n",
    "        lambda x: int(x.weekday() >= 5)\n",
    "    )\n",
    "    transactions_df_eng['TX_DURING_NIGHT'] = transactions_df.TX_DATETIME.parallel_apply(\n",
    "        lambda x: int(x.hour < 6)\n",
    "    )\n",
    "    \n",
    "    # customer behavior transformations\n",
    "    transactions_df_eng = transactions_df_eng.groupby('CUSTOMER_ID').parallel_apply(\n",
    "        lambda x: add_customer_spending_behaviour_features(x)\n",
    "    ).sort_values('TX_DATETIME').reset_index(drop=True)\n",
    "    \n",
    "    # terminal risk transformations\n",
    "    transactions_df_eng = transactions_df_eng.groupby('TERMINAL_ID').parallel_apply(\n",
    "        lambda x: add_terminal_risk_profile(x)\n",
    "    ).sort_values('TX_DATETIME').reset_index(drop=True)\n",
    "    \n",
    "    return transactions_df_eng\n",
    "    "
   ]
  },
  {
   "cell_type": "code",
   "execution_count": 17,
   "metadata": {},
   "outputs": [],
   "source": [
    "# prepare data for ML models\n",
    "transactions_df = set_appropriate_dtypes(transactions_df)\n",
    "transactions_df = credit_card_fraud_feature_engineering(transactions_df)"
   ]
  },
  {
   "cell_type": "code",
   "execution_count": 18,
   "metadata": {},
   "outputs": [
    {
     "data": {
      "text/html": [
       "<div>\n",
       "<style scoped>\n",
       "    .dataframe tbody tr th:only-of-type {\n",
       "        vertical-align: middle;\n",
       "    }\n",
       "\n",
       "    .dataframe tbody tr th {\n",
       "        vertical-align: top;\n",
       "    }\n",
       "\n",
       "    .dataframe thead th {\n",
       "        text-align: right;\n",
       "    }\n",
       "</style>\n",
       "<table border=\"1\" class=\"dataframe\">\n",
       "  <thead>\n",
       "    <tr style=\"text-align: right;\">\n",
       "      <th></th>\n",
       "      <th>TRANSACTION_ID</th>\n",
       "      <th>TX_DATETIME</th>\n",
       "      <th>CUSTOMER_ID</th>\n",
       "      <th>TERMINAL_ID</th>\n",
       "      <th>TX_AMOUNT</th>\n",
       "      <th>TX_TIME_SECONDS</th>\n",
       "      <th>TX_TIME_DAYS</th>\n",
       "      <th>TX_FRAUD</th>\n",
       "      <th>TX_FRAUD_SCENARIO</th>\n",
       "      <th>TX_DURING_WEEKEND</th>\n",
       "      <th>...</th>\n",
       "      <th>NB_TX_7DAY_WINDOW_CUST</th>\n",
       "      <th>AVG_AMOUNT_7DAY_WINDOW</th>\n",
       "      <th>NB_TX_30DAY_WINDOW_CUST</th>\n",
       "      <th>AVG_AMOUNT_30DAY_WINDOW</th>\n",
       "      <th>NB_TX_1DAY_WINDOW_TERM</th>\n",
       "      <th>RISK_1DAY_WINDOW</th>\n",
       "      <th>NB_TX_7DAY_WINDOW_TERM</th>\n",
       "      <th>RISK_7DAY_WINDOW</th>\n",
       "      <th>NB_TX_30DAY_WINDOW_TERM</th>\n",
       "      <th>RISK_30DAY_WINDOW</th>\n",
       "    </tr>\n",
       "  </thead>\n",
       "  <tbody>\n",
       "    <tr>\n",
       "      <th>0</th>\n",
       "      <td>0</td>\n",
       "      <td>2022-01-01 00:00:31</td>\n",
       "      <td>1829</td>\n",
       "      <td>4083</td>\n",
       "      <td>22.35</td>\n",
       "      <td>31</td>\n",
       "      <td>0</td>\n",
       "      <td>0</td>\n",
       "      <td>0</td>\n",
       "      <td>1</td>\n",
       "      <td>...</td>\n",
       "      <td>1.0</td>\n",
       "      <td>22.35</td>\n",
       "      <td>1.0</td>\n",
       "      <td>22.35</td>\n",
       "      <td>0.0</td>\n",
       "      <td>0.0</td>\n",
       "      <td>0.0</td>\n",
       "      <td>0.0</td>\n",
       "      <td>0.0</td>\n",
       "      <td>0.0</td>\n",
       "    </tr>\n",
       "    <tr>\n",
       "      <th>1</th>\n",
       "      <td>1</td>\n",
       "      <td>2022-01-01 00:01:59</td>\n",
       "      <td>157</td>\n",
       "      <td>3553</td>\n",
       "      <td>9.53</td>\n",
       "      <td>119</td>\n",
       "      <td>0</td>\n",
       "      <td>0</td>\n",
       "      <td>0</td>\n",
       "      <td>1</td>\n",
       "      <td>...</td>\n",
       "      <td>1.0</td>\n",
       "      <td>9.53</td>\n",
       "      <td>1.0</td>\n",
       "      <td>9.53</td>\n",
       "      <td>0.0</td>\n",
       "      <td>0.0</td>\n",
       "      <td>0.0</td>\n",
       "      <td>0.0</td>\n",
       "      <td>0.0</td>\n",
       "      <td>0.0</td>\n",
       "    </tr>\n",
       "    <tr>\n",
       "      <th>2</th>\n",
       "      <td>2</td>\n",
       "      <td>2022-01-01 00:02:29</td>\n",
       "      <td>834</td>\n",
       "      <td>4124</td>\n",
       "      <td>82.26</td>\n",
       "      <td>149</td>\n",
       "      <td>0</td>\n",
       "      <td>0</td>\n",
       "      <td>0</td>\n",
       "      <td>1</td>\n",
       "      <td>...</td>\n",
       "      <td>1.0</td>\n",
       "      <td>82.26</td>\n",
       "      <td>1.0</td>\n",
       "      <td>82.26</td>\n",
       "      <td>0.0</td>\n",
       "      <td>0.0</td>\n",
       "      <td>0.0</td>\n",
       "      <td>0.0</td>\n",
       "      <td>0.0</td>\n",
       "      <td>0.0</td>\n",
       "    </tr>\n",
       "    <tr>\n",
       "      <th>3</th>\n",
       "      <td>3</td>\n",
       "      <td>2022-01-01 00:04:47</td>\n",
       "      <td>2845</td>\n",
       "      <td>6957</td>\n",
       "      <td>25.29</td>\n",
       "      <td>287</td>\n",
       "      <td>0</td>\n",
       "      <td>0</td>\n",
       "      <td>0</td>\n",
       "      <td>1</td>\n",
       "      <td>...</td>\n",
       "      <td>1.0</td>\n",
       "      <td>25.29</td>\n",
       "      <td>1.0</td>\n",
       "      <td>25.29</td>\n",
       "      <td>0.0</td>\n",
       "      <td>0.0</td>\n",
       "      <td>0.0</td>\n",
       "      <td>0.0</td>\n",
       "      <td>0.0</td>\n",
       "      <td>0.0</td>\n",
       "    </tr>\n",
       "    <tr>\n",
       "      <th>4</th>\n",
       "      <td>4</td>\n",
       "      <td>2022-01-01 00:07:04</td>\n",
       "      <td>1565</td>\n",
       "      <td>8020</td>\n",
       "      <td>31.69</td>\n",
       "      <td>424</td>\n",
       "      <td>0</td>\n",
       "      <td>0</td>\n",
       "      <td>0</td>\n",
       "      <td>1</td>\n",
       "      <td>...</td>\n",
       "      <td>1.0</td>\n",
       "      <td>31.69</td>\n",
       "      <td>1.0</td>\n",
       "      <td>31.69</td>\n",
       "      <td>0.0</td>\n",
       "      <td>0.0</td>\n",
       "      <td>0.0</td>\n",
       "      <td>0.0</td>\n",
       "      <td>0.0</td>\n",
       "      <td>0.0</td>\n",
       "    </tr>\n",
       "  </tbody>\n",
       "</table>\n",
       "<p>5 rows × 23 columns</p>\n",
       "</div>"
      ],
      "text/plain": [
       "  TRANSACTION_ID         TX_DATETIME  CUSTOMER_ID  TERMINAL_ID  TX_AMOUNT  \\\n",
       "0              0 2022-01-01 00:00:31         1829         4083      22.35   \n",
       "1              1 2022-01-01 00:01:59          157         3553       9.53   \n",
       "2              2 2022-01-01 00:02:29          834         4124      82.26   \n",
       "3              3 2022-01-01 00:04:47         2845         6957      25.29   \n",
       "4              4 2022-01-01 00:07:04         1565         8020      31.69   \n",
       "\n",
       "   TX_TIME_SECONDS  TX_TIME_DAYS  TX_FRAUD  TX_FRAUD_SCENARIO  \\\n",
       "0               31             0         0                  0   \n",
       "1              119             0         0                  0   \n",
       "2              149             0         0                  0   \n",
       "3              287             0         0                  0   \n",
       "4              424             0         0                  0   \n",
       "\n",
       "   TX_DURING_WEEKEND  ...  NB_TX_7DAY_WINDOW_CUST  AVG_AMOUNT_7DAY_WINDOW  \\\n",
       "0                  1  ...                     1.0                   22.35   \n",
       "1                  1  ...                     1.0                    9.53   \n",
       "2                  1  ...                     1.0                   82.26   \n",
       "3                  1  ...                     1.0                   25.29   \n",
       "4                  1  ...                     1.0                   31.69   \n",
       "\n",
       "   NB_TX_30DAY_WINDOW_CUST  AVG_AMOUNT_30DAY_WINDOW  NB_TX_1DAY_WINDOW_TERM  \\\n",
       "0                      1.0                    22.35                     0.0   \n",
       "1                      1.0                     9.53                     0.0   \n",
       "2                      1.0                    82.26                     0.0   \n",
       "3                      1.0                    25.29                     0.0   \n",
       "4                      1.0                    31.69                     0.0   \n",
       "\n",
       "   RISK_1DAY_WINDOW  NB_TX_7DAY_WINDOW_TERM  RISK_7DAY_WINDOW  \\\n",
       "0               0.0                     0.0               0.0   \n",
       "1               0.0                     0.0               0.0   \n",
       "2               0.0                     0.0               0.0   \n",
       "3               0.0                     0.0               0.0   \n",
       "4               0.0                     0.0               0.0   \n",
       "\n",
       "   NB_TX_30DAY_WINDOW_TERM  RISK_30DAY_WINDOW  \n",
       "0                      0.0                0.0  \n",
       "1                      0.0                0.0  \n",
       "2                      0.0                0.0  \n",
       "3                      0.0                0.0  \n",
       "4                      0.0                0.0  \n",
       "\n",
       "[5 rows x 23 columns]"
      ]
     },
     "execution_count": 18,
     "metadata": {},
     "output_type": "execute_result"
    }
   ],
   "source": [
    "transactions_df.head()"
   ]
  },
  {
   "cell_type": "markdown",
   "metadata": {},
   "source": [
    "# 3. Machine Learning modelling"
   ]
  },
  {
   "cell_type": "markdown",
   "metadata": {},
   "source": [
    "## 3.1. Training and test sets"
   ]
  },
  {
   "cell_type": "markdown",
   "metadata": {},
   "source": [
    "The problem of credit card fraud detection has some characteristics that invalidate a simple *train_test_split* approach, namely:\n",
    "- test data must come **chronologically after** any training data;\n",
    "- the need for a *delay period* between the training and the test data, due to the time needed to acknowledge fraudulent activity."
   ]
  },
  {
   "cell_type": "markdown",
   "metadata": {},
   "source": [
    "The following function separates a table of transactions into train and test data consistent with the above constraints."
   ]
  },
  {
   "cell_type": "code",
   "execution_count": 19,
   "metadata": {},
   "outputs": [],
   "source": [
    "def get_transaction_train_test_sets(transactions_df, proportion=0.3, delay_period_days=7):\n",
    "    '''\n",
    "    Extracts a training table and a test table from a table of transactions.\n",
    "    \n",
    "    Given the sequential nature of the transactions, test data must come chronologically after training data. In \n",
    "    addition, a delay period between training and test data is necessary to reflect the time interval between the \n",
    "    occurrence and acknowledgment of fraudulent activity.\n",
    "    \n",
    "    Parameters\n",
    "    ----------\n",
    "    transactions_df: pandas.DataFrame\n",
    "        A table with transaction data.\n",
    "    proportion: float\n",
    "        An approximate value for the proportion of test instances.\n",
    "    delay_period_days: int\n",
    "        The number of days necessary for the acknowledgment of fraudulent activity.\n",
    "    \n",
    "    Returns\n",
    "    -------\n",
    "    transactions_train: pandas.DataFrame\n",
    "        The table of transactions for use in training ML models.\n",
    "    transactions_test: pandas.DataFrame\n",
    "        The table of transactions for use in testing ML models.\n",
    "        \n",
    "    '''\n",
    "    # sort transactions chronologically\n",
    "    transactions_ordered = transactions_df.sort_values('TX_DATETIME')\n",
    "    \n",
    "    # Get the training and testing sets data without delay period\n",
    "    n_test = int(proportion * len(transactions_df))\n",
    "    transactions_train = transactions_ordered.iloc[:-n_test, :]\n",
    "    transactions_test = transactions_ordered.iloc[n_test:, :]\n",
    "    \n",
    "    # drop transactions in the delay period\n",
    "    train_test_frontier_day = transactions_train.TX_TIME_DAYS.max()\n",
    "    max_train_day = int(train_test_frontier_day - delay_period_days / 2)\n",
    "    min_test_day = math.ceil(train_test_frontier_day + delay_period_days / 2)\n",
    "    ## implement delay period\n",
    "    transactions_train = transactions_train[transactions_train.TX_TIME_DAYS <= max_train_day]\n",
    "    transactions_test = transactions_test[transactions_test.TX_TIME_DAYS >= min_test_day]\n",
    "        \n",
    "    return (transactions_train, transactions_test)"
   ]
  },
  {
   "cell_type": "code",
   "execution_count": 20,
   "metadata": {},
   "outputs": [],
   "source": [
    "# getting trains and test sets\n",
    "transactions_train, transactions_test = get_transaction_train_test_sets(transactions_df)"
   ]
  },
  {
   "cell_type": "code",
   "execution_count": 21,
   "metadata": {},
   "outputs": [
    {
     "name": "stdout",
     "output_type": "stream",
     "text": [
      "Training instances: 1195124\n",
      " Test instances: 494700\n",
      "Proportion: 0.2927523813130835\n"
     ]
    }
   ],
   "source": [
    "# checking proportion of training and test data\n",
    "train_instances = len(transactions_train)\n",
    "test_instances = len(transactions_test)\n",
    "proportion = test_instances /  (train_instances + test_instances)\n",
    "print(f'Training instances: {train_instances}\\n Test instances: {test_instances}')\n",
    "print(f'Proportion: {proportion}')"
   ]
  },
  {
   "cell_type": "code",
   "execution_count": 22,
   "metadata": {},
   "outputs": [
    {
     "data": {
      "text/plain": [
       "0    0.991763\n",
       "1    0.008237\n",
       "Name: TX_FRAUD, dtype: float64"
      ]
     },
     "execution_count": 22,
     "metadata": {},
     "output_type": "execute_result"
    }
   ],
   "source": [
    "# checking proportion of frauds on training set\n",
    "transactions_train.TX_FRAUD.value_counts(normalize=True)"
   ]
  },
  {
   "cell_type": "code",
   "execution_count": 23,
   "metadata": {},
   "outputs": [
    {
     "data": {
      "text/plain": [
       "0    0.99128\n",
       "1    0.00872\n",
       "Name: TX_FRAUD, dtype: float64"
      ]
     },
     "execution_count": 23,
     "metadata": {},
     "output_type": "execute_result"
    }
   ],
   "source": [
    "# checking proportion of frauds on test set\n",
    "transactions_test.TX_FRAUD.value_counts(normalize=True)"
   ]
  },
  {
   "cell_type": "markdown",
   "metadata": {},
   "source": [
    "## 3.2. Model training and performance assessment"
   ]
  },
  {
   "cell_type": "code",
   "execution_count": 30,
   "metadata": {},
   "outputs": [],
   "source": [
    "# defining output and input features\n",
    "output_feature = ['TX_FRAUD']\n",
    "input_features=[\n",
    "    'TX_AMOUNT','TX_DURING_WEEKEND', 'TX_DURING_NIGHT', 'NB_TX_1DAY_WINDOW_CUST', 'AVG_AMOUNT_1DAY_WINDOW', \n",
    "    'NB_TX_7DAY_WINDOW_CUST', 'AVG_AMOUNT_7DAY_WINDOW', 'NB_TX_30DAY_WINDOW_CUST', 'AVG_AMOUNT_30DAY_WINDOW', \n",
    "    'NB_TX_1DAY_WINDOW_TERM','RISK_1DAY_WINDOW', 'NB_TX_7DAY_WINDOW_TERM', 'RISK_7DAY_WINDOW', \n",
    "    'NB_TX_30DAY_WINDOW_TERM','RISK_30DAY_WINDOW'\n",
    "]"
   ]
  },
  {
   "cell_type": "code",
   "execution_count": 33,
   "metadata": {},
   "outputs": [],
   "source": [
    "# putting data into appropriate format for model training\n",
    "X_train = transactions_train[input_features].to_numpyes\n",
    "y_train = transactions_train[output_feature].values.ravel() # ravel is used to avoid \n",
    "# dimension warnings when applying some ML models\n",
    "X_test = transactions_test[input_features].values\n",
    "y_test = transactions_test[output_feature].values.ravel()"
   ]
  },
  {
   "cell_type": "code",
   "execution_count": 34,
   "metadata": {},
   "outputs": [],
   "source": [
    "# scaling data for appropriate performance of ML Models\n",
    "scaler = StandardScaler()\n",
    "scaler.fit(X_train)\n",
    "X_train_scaled = scaler.transform(X_train)\n",
    "X_test_scaled = scaler.transform(X_test)"
   ]
  },
  {
   "cell_type": "code",
   "execution_count": 95,
   "metadata": {},
   "outputs": [],
   "source": [
    "def classify_and_evaluate_performance(classifier, X_train, X_test, y_train, y_test):\n",
    "    '''\n",
    "    Fits a classifier and evaluates its performance on both the training and test sets.\n",
    "    \n",
    "    The performance assessment consistis in the computation of the ROC curve and AUC metric.\n",
    "    \n",
    "    Parameters\n",
    "    ----------\n",
    "    classifier: sklearn.Classifier-like\n",
    "        An ML model capable of executing a classification task.\n",
    "    X_train: numpy.ndarray\n",
    "        The (scaled) training data, in numerical format.\n",
    "    X_test: numpy.ndarray\n",
    "        The (scaled) test data, in numerical format.\n",
    "    y_train: numpy.ndarray\n",
    "        The labels of the training data, in numerical format.\n",
    "    y_train: numpy.ndarray\n",
    "        The labels of the training data, in numerical format.\n",
    "    \n",
    "    Returns\n",
    "    -------\n",
    "    trained_classifier: sklearn.Classifier-like\n",
    "        The classifier as of the end of training.\n",
    "    '''\n",
    "    # train model\n",
    "    trained_classifier = classifier.fit(X_train, y_train)\n",
    "    # set axis for plotting\n",
    "    ax = plt.gca() \n",
    "    # assess performance on training set\n",
    "    RocCurveDisplay.from_estimator(trained_classifier, X_train, y_train, ax=ax, name='train')\n",
    "    # assess performance on test set\n",
    "    RocCurveDisplay.from_estimator(trained_classifier, X_test, y_test, ax=ax, name='test')\n",
    "    plt.title(f'ROC curve and AUC scores for {classifier.__class__.__name__}.')\n",
    "    return trained_classifier"
   ]
  },
  {
   "cell_type": "code",
   "execution_count": 96,
   "metadata": {},
   "outputs": [
    {
     "data": {
      "image/png": "[encoded data removed]",
      "text/plain": [
       "<Figure size 864x432 with 1 Axes>"
      ]
     },
     "metadata": {},
     "output_type": "display_data"
    }
   ],
   "source": [
    "# decision tree\n",
    "tree = classify_and_evaluate_performance(\n",
    "    DecisionTreeClassifier(random_state=42), X_train_scaled, X_test_scaled, y_train, y_test\n",
    ")"
   ]
  },
  {
   "cell_type": "code",
   "execution_count": 97,
   "metadata": {
    "scrolled": true
   },
   "outputs": [
    {
     "name": "stderr",
     "output_type": "stream",
     "text": [
      "/home/edson/.virtualenvs/cc_fraud_detection/lib/python3.10/site-packages/sklearn/utils/validation.py:1111: DataConversionWarning: A column-vector y was passed when a 1d array was expected. Please change the shape of y to (n_samples, ), for example using ravel().\n",
      "  y = column_or_1d(y, warn=True)\n"
     ]
    },
    {
     "data": {
      "image/png": "[encoded data removed]",
      "text/plain": [
       "<Figure size 864x432 with 1 Axes>"
      ]
     },
     "metadata": {},
     "output_type": "display_data"
    }
   ],
   "source": [
    "# logistic regression\n",
    "log_reg_clf = classify_and_evaluate_performance(\n",
    "    LogisticRegression(n_jobs=-1), X_train_scaled, X_test_scaled, y_train, y_test\n",
    ")"
   ]
  },
  {
   "cell_type": "code",
   "execution_count": 98,
   "metadata": {},
   "outputs": [
    {
     "data": {
      "image/png": "[encoded data removed]",
      "text/plain": [
       "<Figure size 864x432 with 1 Axes>"
      ]
     },
     "metadata": {},
     "output_type": "display_data"
    }
   ],
   "source": [
    "# XGBoost\n",
    "xgboost_clf = classify_and_evaluate_performance(\n",
    "    XGBClassifier(random_state=42, n_jobs=-1), X_train_scaled, X_test_scaled,\n",
    "                 y_train, y_test\n",
    ")"
   ]
  },
  {
   "cell_type": "markdown",
   "metadata": {},
   "source": [
    "After training and comparing the performances of these 3 commonly used models in fraud detection problems, we observe that:\n",
    "- The decision tree classifier, in the standard configuration used here, was drastically overfitted and did not achieve performance as well as the other models.\n",
    "- The logistic regression model achieved the best degree of generalization and performance as great as that of the best model overall (xgboost).\n",
    "- The XGboost classifier achieved the highest performance on the test set, although we can see a considerable amount of overfitting."
   ]
  },
  {
   "cell_type": "markdown",
   "metadata": {},
   "source": [
    "Folowing Occam's razor principle, in the first moment, the development of the fraud detection system will continue with the logistic regression model."
   ]
  },
  {
   "cell_type": "code",
   "execution_count": null,
   "metadata": {},
   "outputs": [],
   "source": []
  }
 ],
 "metadata": {
  "kernelspec": {
   "display_name": "Python 3 (ipykernel)",
   "language": "python",
   "name": "python3"
  },
  "language_info": {
   "codemirror_mode": {
    "name": "ipython",
    "version": 3
   },
   "file_extension": ".py",
   "mimetype": "text/x-python",
   "name": "python",
   "nbconvert_exporter": "python",
   "pygments_lexer": "ipython3",
   "version": "3.10.4"
  },
  "vscode": {
   "interpreter": {
    "hash": "947aaa753c19e897d3e18e2dd78481e7588bf3ea48be8d5de7a0d33111fabf15"
   }
  }
 },
 "nbformat": 4,
 "nbformat_minor": 2
}
